{
 "cells": [
  {
   "cell_type": "markdown",
   "metadata": {},
   "source": [
    "## Purpose: A prediction model for quantity over the life of a quote that will generalize to inputs beyond the range of the training dataset.  Generalization is required to test new pricing potential.  "
   ]
  },
  {
   "cell_type": "markdown",
   "metadata": {},
   "source": [
    "### This model is designed to work with sparse data and high granularity.  In this case, granulaty is from many part numbers in combination with many customers with intermittent purchases.  No complete time sequences exist due the granularity.  It can be applied to retail and distribution models as well as demand planning systems."
   ]
  },
  {
   "cell_type": "markdown",
   "metadata": {},
   "source": [
    "### The application specifically addressed is pricing at the time of quote.  The quantity foreast is by quote for a period of twelve months after the first shipment against the quote.  The quotes are issued by a pricing team who seek to maximize the rates of close (a 'win') when the quote results in a shipment and the total shipments over the 12 month life of the quote."
   ]
  },
  {
   "cell_type": "markdown",
   "metadata": {},
   "source": [
    "#### Libraries and Utilities"
   ]
  },
  {
   "cell_type": "code",
   "execution_count": 1,
   "metadata": {},
   "outputs": [],
   "source": [
    "%reload_ext autoreload\n",
    "%autoreload"
   ]
  },
  {
   "cell_type": "code",
   "execution_count": 2,
   "metadata": {},
   "outputs": [],
   "source": [
    "import warnings\n",
    "warnings.filterwarnings('ignore')"
   ]
  },
  {
   "cell_type": "code",
   "execution_count": 3,
   "metadata": {},
   "outputs": [],
   "source": [
    "#allow cell to perform multiple computations\n",
    "\n",
    "from IPython.core.interactiveshell import InteractiveShell\n",
    "InteractiveShell.ast_node_interactivity = \"all\""
   ]
  },
  {
   "cell_type": "code",
   "execution_count": 4,
   "metadata": {},
   "outputs": [
    {
     "data": {
      "text/html": [
       "<style>.container { width:100% !important; }</style>"
      ],
      "text/plain": [
       "<IPython.core.display.HTML object>"
      ]
     },
     "metadata": {},
     "output_type": "display_data"
    }
   ],
   "source": [
    "#set cell width as percentage of window\n",
    "\n",
    "from IPython.core.display import display, HTML\n",
    "display(HTML(\"<style>.container { width:100% !important; }</style>\"))"
   ]
  },
  {
   "cell_type": "code",
   "execution_count": 5,
   "metadata": {},
   "outputs": [],
   "source": [
    "from tensorflow.keras.backend import clear_session\n",
    "clear_session()"
   ]
  },
  {
   "cell_type": "code",
   "execution_count": 6,
   "metadata": {},
   "outputs": [],
   "source": [
    "import pandas as pd\n",
    "import numpy as np\n",
    "import matplotlib.pyplot as plt\n",
    "from datetime import datetime as dt\n",
    "import math\n",
    "from scipy import stats\n",
    "from sklearn.model_selection import train_test_split\n",
    "from sklearn.preprocessing import LabelEncoder, StandardScaler, MinMaxScaler, RobustScaler\n",
    "from sklearn_pandas import DataFrameMapper \n",
    "import os as os\n",
    "import string\n",
    "from joblib import dump, load\n",
    "import time\n",
    "import gc"
   ]
  },
  {
   "cell_type": "code",
   "execution_count": 7,
   "metadata": {},
   "outputs": [],
   "source": [
    "# subdirectories for quantity rate models\n",
    "!mkdir quantity_val_checkpoint\n",
    "!mkdir quantity_all_checkpoint\n",
    "!mkdir quantity_all_model\n",
    "!mkdir quantity_maps\n",
    "!mkdir quantity_val_model"
   ]
  },
  {
   "cell_type": "code",
   "execution_count": 8,
   "metadata": {},
   "outputs": [],
   "source": [
    "# DOMAIN KNOWLEDGE:  ship_date is date of a shipment ordered from a valid quote\n",
    "# DOMAIN KNOWLEDGE:  there can be multiple shipments (i.e., multiple ship_date's) against a quote while order is valid\n",
    "# DOMAIN KNOWLEDGE:  quotes are open for ninety days and require a shipment to remain valid\n",
    "# DOMAIN KNOWLEDGE:  quotes remain valid for one year after first ship_date\n",
    "# DOMAIN KNOWLEDGE:  Win is a quote with a shipment against the quote while quote is in 90 day open period\n",
    "# DOMAIN KNOWLEDGE:  Capture is ratio of total quantity shipped to quantity quoted"
   ]
  },
  {
   "cell_type": "markdown",
   "metadata": {},
   "source": [
    "### Load Data"
   ]
  },
  {
   "cell_type": "code",
   "execution_count": 9,
   "metadata": {},
   "outputs": [],
   "source": [
    "# Load features and targets\n",
    "dx = load('Order_Ship_Data')\n",
    "\n",
    "# Definitions:\n",
    "#   'quote' is a unique number assigned to every quote; more than one item can be included on a quote number\n",
    "#   'part' is the part name being quoted\n",
    "#   'plant' is the company division that manufactures the part\n",
    "#   'dist' is a unique number assigned to the company distributors\n",
    "#   'region' is the customer region location\n",
    "#   'quote_qty' is the requested quote amount\n",
    "#   'sales_qty' is the quantity shipped on the 'ship_date'; there can be multiple shipments against a quote\n",
    "#   'quote_price' is the price first quoted; shipping prices can vary from competitive requirements\n",
    "#   'ship_date' are the dates of shipment\n",
    "#   'quote_date' is the date of the quote\n",
    "#   'Win' is whether or note quote closed: 1 = closed, 0 = lost\n",
    "#   'Quote_Yr' is year of quote issue\n",
    "#   'Quote_Mon' is month of year quote issued\n",
    "#   'Quote_Qtr' is quarter of year quote issued\n",
    "#   'Close_Date' is date quote expires 1 year after first shipment\n",
    "#   'Months_Used' is number of months passed in year to the quote closing date \n"
   ]
  },
  {
   "cell_type": "markdown",
   "metadata": {},
   "source": [
    "## Build Quantity Shipment Predictor\n",
    "#### Encode, scale and shape data for tensorflow\n",
    "#### Perform train test split"
   ]
  },
  {
   "cell_type": "code",
   "execution_count": 10,
   "metadata": {},
   "outputs": [],
   "source": [
    "# Libraries needed\n",
    "\n",
    "from sklearn.preprocessing import LabelEncoder, MinMaxScaler, StandardScaler, RobustScaler\n",
    "from sklearn_pandas import DataFrameMapper\n",
    "from tensorflow.keras.backend import clear_session\n",
    "from tensorflow import keras\n",
    "from tensorflow.keras.losses import MSE\n",
    "from tensorflow.keras.layers import Dense, Dropout, BatchNormalization, Embedding, Flatten, concatenate, Input\n",
    "from tensorflow.keras.models import Model, save_model, load_model\n",
    "from tensorflow.keras.callbacks import EarlyStopping, ReduceLROnPlateau, ModelCheckpoint\n",
    "from tensorflow.keras.utils import plot_model\n",
    "from tensorflow.keras.metrics import mae, mse"
   ]
  },
  {
   "cell_type": "code",
   "execution_count": 11,
   "metadata": {},
   "outputs": [],
   "source": [
    "# Choose categorical feature vars\n",
    "# Include 'Win' as categorical feature so that the 0 entry in Win can explain the 0 sales quantity\n",
    "cat_vars = ['part', 'plant', 'dist', 'region']\n",
    "\n",
    "# Choose time features vars\n",
    "time_vars = ['Quote_Yr', 'Quote_Mon', 'Quote_Qtr','Months_Used']\n",
    "\n",
    "# Choose continuous feature vars to be scaled with minmax, robust, or standard scalers\n",
    "cont_vars = ['quote_qty','quote_pr']\n",
    "\n",
    "# Choose continuous feature vars to be logged and then scaled\n",
    "cont_vars_log = ['quote_qty']\n",
    "\n",
    "# Choose target features\n",
    "targets = ['sales_qty']\n",
    "\n",
    "# Append features\n",
    "features = cat_vars + time_vars + cont_vars\n",
    "\n",
    "# Identify data and target dataframes\n",
    "data = dx[features]\n",
    "target = dx[targets]\n"
   ]
  },
  {
   "cell_type": "markdown",
   "metadata": {},
   "source": [
    "### Apply encoders, embeddings, max/min embeddings and scalers to feature data"
   ]
  },
  {
   "cell_type": "markdown",
   "metadata": {},
   "source": [
    "#### Apply logs to variables and targets with excesssive range"
   ]
  },
  {
   "cell_type": "code",
   "execution_count": 12,
   "metadata": {},
   "outputs": [],
   "source": [
    "#  Take log on continuous features to be logged to reduce range\n",
    "def log_cont_data(data, cont_vars_log=cont_vars_log):\n",
    "    \n",
    "    # take logs of each variable to be logged identified\n",
    "    for feat in cont_vars_log:\n",
    "        data[feat] = data[feat].apply(lambda x: np.log(x).astype(np.float32))\n",
    "    \n",
    "    # return data with logged columns\n",
    "    return data\n",
    "\n",
    "# insert logs into data\n",
    "data = log_cont_data(data)"
   ]
  },
  {
   "cell_type": "code",
   "execution_count": 13,
   "metadata": {},
   "outputs": [],
   "source": [
    "#  Take log on target to reduce range\n",
    "def log_target(target=target,targets=targets):\n",
    "    \n",
    "    # take log of targets in target\n",
    "    target[targets] = target[targets].apply(lambda x: np.log(x).astype(np.float32))\n",
    "    \n",
    "    # return logged target \n",
    "    return target\n",
    "\n",
    "# insert logs into data\n",
    "y = log_target()"
   ]
  },
  {
   "cell_type": "markdown",
   "metadata": {},
   "source": [
    "### Compute list of embedding sizes and tuples of label encoders"
   ]
  },
  {
   "cell_type": "code",
   "execution_count": 14,
   "metadata": {},
   "outputs": [],
   "source": [
    "# Function to apply embeddings for categorical features in data\n",
    "\n",
    "def cat_map_data(data,cat_vars=cat_vars, emax=50, emin=4):\n",
    "    # compute list of number of unique categories for each categorical variable\n",
    "    cat_emb = [len(data[c].unique()) for c in cat_vars]\n",
    "    \n",
    "    # compute list inserting maximum number of embeddings for each category \n",
    "    cat_emb_max = [c if c<= emax else emax for c in cat_emb] #maximum embedded weights is emax (default=50)\n",
    "    \n",
    "    # compute list inserting minimum number of embeddings for each category\n",
    "    cat_emb_max = [c if c>= emin else emin for c in cat_emb_max] #minimum embedded weights is emin (default = 4)\n",
    "    \n",
    "    # form dictionary of the categorical variables and the list of embeddings\n",
    "    cat_vars_dict = dict(zip(cat_vars,cat_emb_max))\n",
    "    \n",
    "    # form list of tuples of categorical variables and the label encoder\n",
    "    cat_map = [(c,LabelEncoder()) for c in cat_vars]\n",
    "    \n",
    "    # return the embedding dictionary and the map of label encoders to categorical variables\n",
    "    return cat_vars_dict,cat_map"
   ]
  },
  {
   "cell_type": "code",
   "execution_count": 15,
   "metadata": {},
   "outputs": [],
   "source": [
    "# Function to apply embeddings for time features in data\n",
    "\n",
    "def time_map_data(data,time_vars=time_vars, tmax=12, tmin=3):\n",
    "    \n",
    "    # compute number of unique values for each time variable\n",
    "    time_emb = [len(data[t].unique()) for t in time_vars]\n",
    "    \n",
    "    # insert maximum embedded coefficients for time variables\n",
    "    time_emb_max = [t if t <= tmax else tmax for t in time_emb] #maximum embedded weights is tmax (default=12)\n",
    "    \n",
    "    # insert minimum embedded coefficients for time variables\n",
    "    time_emb_max = [t if t >= tmin else tmin for t in time_emb_max]#minimum embedded weights is tmin (default=3)\n",
    "    time_vars_dict = dict(zip(time_vars,time_emb_max))\n",
    "    \n",
    "    # compute list of tuples assigning the Label Encoder to the time variable\n",
    "    time_map = [(t,LabelEncoder()) for t in time_vars]\n",
    "    \n",
    "    # return dictionary of embedded coefficients and list of encoder tuples\n",
    "    return time_vars_dict,time_map"
   ]
  },
  {
   "cell_type": "code",
   "execution_count": 16,
   "metadata": {},
   "outputs": [],
   "source": [
    "# Function to apply scaler on the continuous features in data\n",
    "# s can be standardscaler,robustscaler or minmaxscaler; default is minmax\n",
    "# x,y is limit on minmax; default to 0,1\n",
    "# l,u is percential rank for the robust scaler based on median; default is 10,90\n",
    "\n",
    "def cont_map_data(cont_vars=cont_vars, s='minmax', x=1, y=2, l=10, u=90): # s can be standardscaler,robustscaler or minmaxscaler\n",
    "    \n",
    "    # select scaler map and form list of tuples for variable and scaler\n",
    "    if s == 'standard':\n",
    "        cont_map = [([c],StandardScaler(copy=True,with_mean=True,with_std=True)) for c in cont_vars]\n",
    "    \n",
    "    elif s == 'robust':\n",
    "        cont_map = [([c],RobustScaler(with_centering=True,with_scaling=True,quantile_range=(t,u))) for c in cont_vars]\n",
    "    \n",
    "    elif s == 'minmax':\n",
    "        cont_map = [([c],MinMaxScaler(feature_range = (x,y))) for c in cont_vars]\n",
    "    \n",
    "    # return map of scaler and continuous variables tuples\n",
    "    return cont_map"
   ]
  },
  {
   "cell_type": "markdown",
   "metadata": {},
   "source": [
    "### Transform feature variables and convert to array using DataFrameMapper"
   ]
  },
  {
   "cell_type": "code",
   "execution_count": 17,
   "metadata": {},
   "outputs": [],
   "source": [
    "# Encode categorical features amd fit - transform with DataFrameMapper\n",
    "def map_cat_data(data):\n",
    "    \n",
    "    # map encoder to categorical variables; cat_vars_dict required for input layers\n",
    "    cat_vars_dict,cat_map = cat_map_data(data)\n",
    "    \n",
    "    # initialize dataframe mapper\n",
    "    cat_mapper = DataFrameMapper(cat_map)\n",
    "    \n",
    "    # fit categorical variables; cat_map_fit required for input layer\n",
    "    cat_map_fit = cat_mapper.fit(data)\n",
    "    \n",
    "    # transform data using dataframe mapper\n",
    "    cat_data = cat_map_fit.transform(data).astype(np.int64) \n",
    "    \n",
    "    # return cat_vars_dict and cat_map_fit used in embedding input layer to tensorflow\n",
    "    return  cat_data, cat_vars_dict, cat_map_fit "
   ]
  },
  {
   "cell_type": "code",
   "execution_count": 18,
   "metadata": {},
   "outputs": [],
   "source": [
    "# Encode time features and fit - transform with DataFrameMapper    \n",
    "def map_time_data(data):    \n",
    "    \n",
    "    # map encoder to time variables; time_vars_dict used in embedding input layer to tensorflow\n",
    "    time_vars_dict,time_map = time_map_data(data)\n",
    "    \n",
    "    # initialize dataframemapper\n",
    "    time_mapper = DataFrameMapper(time_map)\n",
    "    \n",
    "    # fit time variables to data; time_map_fit req'd for input layers\n",
    "    time_map_fit = time_mapper.fit(data)\n",
    "    \n",
    "    # transform data\n",
    "    time_data = time_map_fit.transform(data).astype(np.int64)\n",
    "    \n",
    "    # return encoded time data, time_vars_dict and time_map_fit used in input layer\n",
    "    return time_data, time_vars_dict, time_map_fit "
   ]
  },
  {
   "cell_type": "code",
   "execution_count": 19,
   "metadata": {},
   "outputs": [],
   "source": [
    "# Scale continuous features and fit with DataFrameMapper\n",
    "def map_cont_data(data):\n",
    "    \n",
    "    # map scaler to continuous data;  cont_map_data defaults to comt_vars and minmax scaler, x = 0,y = 1\n",
    "    cont_map = cont_map_data() \n",
    "    \n",
    "    # intialize DataFrameMapper with scalers to be applied\n",
    "    cont_mapper = DataFrameMapper(cont_map)\n",
    "    \n",
    "    # fit mapper to data; cont_map_fit is required when building input layers\n",
    "    cont_map_fit = cont_mapper.fit(data)\n",
    "    \n",
    "    # transform and return data\n",
    "    cont_data = cont_map_fit.transform(data).astype(np.float32)\n",
    "    \n",
    "    return cont_data, cont_map_fit"
   ]
  },
  {
   "cell_type": "code",
   "execution_count": 20,
   "metadata": {},
   "outputs": [],
   "source": [
    "# Compute transformed and shaped input data\n",
    "# scale and encode data - ?_vars_dict and ?_map_fit used in building input layers\n",
    "\n",
    "# encode categorical variables\n",
    "data_cat, cat_vars_dict, cat_map_fit = map_cat_data(data)\n",
    "\n",
    "# encode time variables\n",
    "data_time, time_vars_dict, time_map_fit = map_time_data(data)\n",
    "\n",
    "# scale selected continuous variables\n",
    "data_cont, cont_map_fit = map_cont_data(data)\n",
    "\n",
    "# concatenate encoded, scaled and logged and scaled data\n",
    "data_scaled = np.hstack([data_cat,data_time,data_cont])\n"
   ]
  },
  {
   "cell_type": "markdown",
   "metadata": {},
   "source": [
    "#### When scaling the target variable using minmax do not use a range of 0,1.  The mape metrics and losses are not usable with that range.  Since we are not directly using L1 or L2 regularization the mean and unit variance has no purpose."
   ]
  },
  {
   "cell_type": "code",
   "execution_count": 21,
   "metadata": {},
   "outputs": [],
   "source": [
    "# Function to scale and shape continuous variable target tensor\n",
    "def map_cont_target(y, s='minmax', f=1, c=2, l=10, u=90):     \n",
    "\n",
    "    # select scaler    \n",
    "    if s == 'standard':\n",
    "        scaler = StandardScaler(copy=True, with_mean=True, with_std=True)\n",
    "\n",
    "        # fit scaler to column\n",
    "        scaled = scaler.fit(y)\n",
    "\n",
    "        # save scaler to quantity_maps subdirectory   \n",
    "        filename = os.path.join('quantity_maps','target_cont_scaler')\n",
    "        dump(scaled,filename)\n",
    "\n",
    "        # transform target\n",
    "        y_scaled = scaled.transform(y)\n",
    "    \n",
    "    elif s == 'robust':\n",
    "        scaler = RobustScaler(with_centering=True, with_scaling=True, quantile_range=(l,u))\n",
    "\n",
    "        # fit scaler to target\n",
    "        scaled = scaler.fit(y)\n",
    "\n",
    "        # save scaler to quantity_maps subdirectory   \n",
    "        filename = os.path.join('quantity_maps','target_cont_scaler')\n",
    "        dump(scaled,filename)\n",
    "\n",
    "        # transform target\n",
    "        y_scaled = scaled.transform(y)\n",
    "\n",
    "    # note:applying minmax scaler to log removes need for leakyRelu in model\n",
    "    elif s == 'minmax':\n",
    "        scaler = MinMaxScaler(feature_range=(f,c))\n",
    "\n",
    "        # fit scaler to column\n",
    "        scaled = scaler.fit(y)\n",
    "\n",
    "        # save scaler to quantity_maps subdirectory   \n",
    "        filename = os.path.join('quantity_maps','target_cont_scaler')\n",
    "        dump(scaled,filename)\n",
    "\n",
    "        # transform target\n",
    "        y_scaled = scaled.transform(y)\n",
    "    \n",
    "    # shape and type y array for tensorflow\n",
    "    y_scaled = np.array(y_scaled).reshape(-1,1).astype(np.float32) \n",
    "    \n",
    "    return y_scaled\n",
    "\n",
    "# scale target vector y\n",
    "y_scaled = map_cont_target(y)"
   ]
  },
  {
   "cell_type": "markdown",
   "metadata": {},
   "source": [
    "### Functions to identically encode categorical and time data and save for use in predictions\n",
    "### Function to identically scale continuous data and save for use in predictions"
   ]
  },
  {
   "cell_type": "code",
   "execution_count": 22,
   "metadata": {},
   "outputs": [],
   "source": [
    "# Build maps of categorical and time features and save encoded labels for prediction scheme\n",
    "# Scale and save scaler on continuous features for prediction scheme\n",
    "\n",
    "# function to map the encoding to the categories and save in win_maps subdirectory\n",
    "# colname is in string format\n",
    "def encode_cat(data,data_cat,colname):\n",
    "    colnum = data.columns.get_loc(colname)\n",
    "    label_map = dict(zip(data[colname],data_cat[:,colnum]))\n",
    "    filename = os.path.join('quantity_maps',colname + '_cat_label_map')\n",
    "    dump(label_map,filename)\n",
    "    return colnum\n",
    "\n",
    "# function to map the encoding to time features and save in win_maps subdirectory\n",
    "# colname is in string format\n",
    "def encode_time(data,data_time,colname,catnum):\n",
    "    colnum = data.columns.get_loc(colname)-(catnum + 1)\n",
    "    label_map = dict(zip(data[colname],data_time[:,colnum]))\n",
    "    filename = os.path.join('quantity_maps',colname + '_time_label_map')\n",
    "    dump(label_map,filename)\n",
    "    return\n",
    "\n",
    "# function to calculate scalers on continuous features and save in capture_maps subdirectory\n",
    "def scale_conts(data,colname,s):\n",
    "     # select scaler\n",
    "    if s == 'standard':\n",
    "        scaler = StandardScaler(copy=True, with_mean=True, with_std=True)\n",
    "    elif s == 'robust':\n",
    "        scaler = RobustScaler(with_centering=True,with_scaling=True,quantile_range=(20,80))\n",
    "    elif s == 'minmax':\n",
    "        scaler = MinMaxScaler(feature_range=(1,2))\n",
    "    \n",
    "    # fit scaler to column\n",
    "    scaled = scaler.fit(np.array(data[colname]).reshape(-1,1))\n",
    "    \n",
    "    # save scaler to win_maps subdirectory   \n",
    "    filename = os.path.join('quantity_maps',colname + '_cont_scaler')\n",
    "    dump(scaled,filename)\n",
    "    \n",
    "    return\n",
    "    \n",
    "\n",
    "for colname in cat_vars:catnum=encode_cat(data,data_cat,colname)\n",
    "for colname in time_vars:encode_time(data,data_time,colname,catnum)\n",
    "for colname in cont_vars:scale_conts(data,colname,'minmax')\n"
   ]
  },
  {
   "cell_type": "markdown",
   "metadata": {},
   "source": [
    "### Split data in training, validation and test sets.\n",
    "#### Construct stratification method based on percentiles"
   ]
  },
  {
   "cell_type": "code",
   "execution_count": 23,
   "metadata": {},
   "outputs": [],
   "source": [
    "# Sold quantity, the target, is binned into 4 percentiles 0,.25, .5, .75, 1\n",
    "# The bins are then used to stratify the train,validation and test splits\n",
    "# The bins are NOT used in the training or test but only to balance the split"
   ]
  },
  {
   "cell_type": "code",
   "execution_count": 24,
   "metadata": {},
   "outputs": [
    {
     "data": {
      "text/plain": [
       "['quantity_maps/stratify_percentiles']"
      ]
     },
     "execution_count": 24,
     "metadata": {},
     "output_type": "execute_result"
    }
   ],
   "source": [
    "# Compute stratification array and percentile boundaries\n",
    "strats, percentiles = pd.qcut(y_scaled.reshape(-1,),4,labels=False,retbins=True)\n",
    "\n",
    "# Store percentile boundaries for prediction scheme\n",
    "filename = os.path.join('quantity_maps','stratify_percentiles')\n",
    "dump(percentiles,filename)\n",
    "\n",
    "# Concatenate y_scaled with strats so the split includes stratification\n",
    "y = np.column_stack((y,strats))\n",
    "\n",
    "# Perform first split to obtain stratified all and test set \n",
    "data_all,data_test,y_all,y_test = train_test_split(data_scaled,y,test_size=.05,random_state=75,stratify=strats)\n",
    "\n",
    "# Redefine strats to be stratification in remaining target vector y_all; remove strats from y_all\n",
    "strats = y_all[:,1]\n",
    "y_all = y_all[:,0]\n",
    "\n",
    "# Perform second split to obtain stratified train and validation sets \n",
    "data_train,data_val,y_train,y_val = train_test_split(data_all,y_all,test_size=.15,random_state=75,stratify=strats)\n",
    "\n",
    "# Convert train and test input data to list of arrays for tensorflow\n",
    "X_train = np.hsplit(data_train, data_train.shape[1])\n",
    "X_val = np.hsplit(data_val, data_val.shape[1])\n",
    "X_test = np.hsplit(data_test, data_test.shape[1])\n",
    "X_all = np.hsplit(data_all, data_all.shape[1])\n",
    "\n",
    "# Shape targets\n",
    "y_train = np.array(y_train).reshape(-1,1)\n",
    "y_val = np.array(y_val).reshape(-1,1)\n",
    "y_test =  np.array(y_test[:,0]).reshape(-1,1)\n",
    "y_all = np.array(y_all).reshape(-1,1)\n",
    "\n"
   ]
  },
  {
   "cell_type": "markdown",
   "metadata": {},
   "source": [
    "#### Apply split twice for validation and test"
   ]
  },
  {
   "cell_type": "markdown",
   "metadata": {},
   "source": [
    "###  Compute sample weights on  data for tensorflow fitting method "
   ]
  },
  {
   "cell_type": "code",
   "execution_count": 25,
   "metadata": {},
   "outputs": [],
   "source": [
    "# colname is column name string for column setting weights\n",
    "\n",
    "def sample_weights(data,colname,features=features,hi=2,lo=1): #data input is the training array before conversion to list\n",
    "    \n",
    "    # convert array to dataframe\n",
    "    df = pd.DataFrame(data,columns=features)\n",
    "    df.head()\n",
    "    \n",
    "    # compute unique value counts\n",
    "    weights = df[colname].value_counts(normalize=True, ascending = False)\n",
    "    weights = pd.DataFrame(weights).reset_index()\n",
    "    weights.columns = [colname,'share']\n",
    "    \n",
    "    # create array of weights in descending order\n",
    "    weight = np.array(weights.share).reshape(-1,1)\n",
    "    \n",
    "    # minmaxscaler on weights to offset decrease in loss from small weights\n",
    "    weight = MinMaxScaler(feature_range=(lo,hi)).fit_transform(weight)\n",
    "    \n",
    "    # convert to list and reverse order\n",
    "    weight = list(weight)\n",
    "    weight.reverse()\n",
    "    \n",
    "    # compute dictionary of unique items in colname and reversed weights\n",
    "    weight_dict = dict(zip(weights[colname],weight))\n",
    "    \n",
    "    # compute weights on data and convert to np array\n",
    "    weight_arr = np.array([weight_dict[x] for x in df[colname]]).reshape(-1,)\n",
    "    \n",
    "    # return array mapping colname items to reversed weights\n",
    "    return weight_arr"
   ]
  },
  {
   "cell_type": "code",
   "execution_count": 26,
   "metadata": {},
   "outputs": [],
   "source": [
    "# compute weights on part numbers in data_train\n",
    "train_weight = sample_weights(data_train,'part')\n",
    "all_weight = sample_weights(data_all, 'part')"
   ]
  },
  {
   "cell_type": "markdown",
   "metadata": {},
   "source": [
    "## Build Sales Quantity Predictive Model"
   ]
  },
  {
   "cell_type": "code",
   "execution_count": 27,
   "metadata": {},
   "outputs": [],
   "source": [
    "# Graph categorical features input layers\n",
    "# Initialize with Xavier by calling 'glorot_normal' to minimize vanishing/exploding gradients\n",
    "# Apply batch normalization for both regularization and controlling gradients\n",
    "# Apply dropout to control overfitting\n",
    "\n",
    "def cat_input(feat,cat_vars_dict,r=.5):\n",
    "    # compute input vector\n",
    "    name = feat[0]\n",
    "    c1 = len(feat[1].classes_)\n",
    "    c2 = cat_vars_dict[name]\n",
    "\n",
    "    # create input layer\n",
    "    inp = Input(shape=(1,),dtype='int64',name=name + '_in')\n",
    "    cat = Flatten(name=name+'_flt')(Embedding(c1,c2,input_length=1)(inp))\n",
    "    \n",
    "    # add dense layers, dropout, and batch normalization\n",
    "    cat = Dense(500, activation='relu',kernel_initializer='glorot_normal',bias_initializer='normal')(cat)\n",
    "    cat = Dropout(rate=r)(cat)\n",
    "    cat = BatchNormalization()(cat)\n",
    "    cat = Dense(500, activation='relu',kernel_initializer='glorot_normal',bias_initializer='normal')(cat)\n",
    "    cat = Dropout(rate=r)(cat)\n",
    "    cat = BatchNormalization()(cat)\n",
    "    return inp,cat\n",
    "\n",
    "# Graph categorical features input\n",
    "cats = [cat_input(feat,cat_vars_dict) for feat in cat_map_fit.features]"
   ]
  },
  {
   "cell_type": "code",
   "execution_count": 28,
   "metadata": {},
   "outputs": [],
   "source": [
    "# Graph time input layers\n",
    "\n",
    "def time_input(feat,time_vars_dict,r=.5):\n",
    "    \n",
    "    # compute input vector\n",
    "    name = feat[0]\n",
    "    c1 = len(feat[1].classes_)\n",
    "    c2 = time_vars_dict[name]\n",
    "\n",
    "    # create input layer\n",
    "    inp = Input(shape=(1,),dtype='int64',name=name + '_in')\n",
    "    time = Flatten(name=name+'_flt')(Embedding(c1,c2,input_length=1)(inp))\n",
    "    \n",
    "    # add dense, dropout and normalization layers\n",
    "    time = Dense(500, activation='relu',kernel_initializer='glorot_normal',bias_initializer='normal')(time)\n",
    "    time = Dropout(rate=r)(time)\n",
    "    time = BatchNormalization()(time)\n",
    "    time = Dense(500, activation='relu',kernel_initializer='glorot_normal',bias_initializer='normal')(time)\n",
    "    time = Dropout(rate=r)(time)\n",
    "    time = BatchNormalization()(time)\n",
    "    return inp,time\n",
    "\n",
    "# Graph time features input\n",
    "times = [time_input(feat,time_vars_dict) for feat in time_map_fit.features]"
   ]
  },
  {
   "cell_type": "code",
   "execution_count": 29,
   "metadata": {},
   "outputs": [],
   "source": [
    "# Graph input layers for continuous features\n",
    "\n",
    "def cont_input(feat,r=.5):\n",
    "    name = feat[0][0]\n",
    "    \n",
    "    # create input layer\n",
    "    inp = Input((1,), name=name+'_in')\n",
    "    cont = Dense(1, name = name + '_d')(inp)\n",
    "\n",
    "    # add dense, dropout, batch normalization layers\n",
    "    cont = Dense(1000, activation='relu',kernel_initializer='glorot_normal',bias_initializer='normal')(cont)\n",
    "    cont = Dropout(rate=r)(cont)\n",
    "    cont = BatchNormalization()(cont)\n",
    "    cont = Dense(500, activation='relu',kernel_initializer='glorot_normal',bias_initializer='normal')(cont)\n",
    "    cont = Dropout(rate=r)(cont)\n",
    "    cont = BatchNormalization()(cont)\n",
    "    return inp,cont\n",
    "\n",
    "# Graph continuous features input\n",
    "conts = [cont_input(feat) for feat in cont_map_fit.features]\n"
   ]
  },
  {
   "cell_type": "code",
   "execution_count": 30,
   "metadata": {},
   "outputs": [],
   "source": [
    "def build_quantity_model(cats, times, conts, r = .5):\n",
    "\n",
    "    # Build graph for interconnected categorical features\n",
    "    \n",
    "    # input concatenated categorical features for interconnected nodes\n",
    "    c = concatenate([cat for inp,cat in cats])\n",
    "    \n",
    "    # add dense, dropout and batch normalization layers\n",
    "    c = Dense(500, activation='relu',kernel_initializer='glorot_normal',bias_initializer='normal')(c)\n",
    "    c = Dropout(rate=r)(c)\n",
    "    c = BatchNormalization()(c)\n",
    "    c = Dense(500, activation='relu',kernel_initializer='glorot_normal',bias_initializer='normal')(c)\n",
    "    c = Dropout(rate=r)(c)\n",
    "    c = BatchNormalization()(c)\n",
    "    \n",
    "    # Build graph for concatenated time features for interconnected nodes\n",
    "    \n",
    "    # concatenate time variables for inteconnected nodes\n",
    "    t = concatenate([time for inp,time in times])\n",
    "    \n",
    "    # add dense, dropout and batch normalization layers \n",
    "    t = Dense(500, activation='relu',kernel_initializer='glorot_normal',bias_initializer='normal')(t)\n",
    "    t = Dropout(rate=r)(t)\n",
    "    t = BatchNormalization()(t)\n",
    "    t = Dense(500, activation='relu',kernel_initializer='glorot_normal',bias_initializer='normal')(t)\n",
    "    t = Dropout(rate=r)(t)\n",
    "    t = BatchNormalization()(t)\n",
    "\n",
    "    # Build graph for continuous features fully interconnected by concatenate\n",
    "    \n",
    "    # concatenate if 2 or more variables\n",
    "    if len(conts)>1: f = concatenate([cont for inp,cont in conts])\n",
    "    else: f= conts[0][1]\n",
    "\n",
    "    # add dense, dropout and batch normalization layers fully interconnected\n",
    "    f = Dense(500, activation='relu',kernel_initializer='glorot_normal',bias_initializer='normal')(f)\n",
    "    f = Dropout(rate=r)(f)\n",
    "    f = BatchNormalization()(f)\n",
    "    f = Dense(500, activation='relu',kernel_initializer='glorot_normal',bias_initializer='normal')(f)\n",
    "    f = Dropout(rate=r)(f)\n",
    "    f = BatchNormalization()(f)\n",
    "    \n",
    "    # Concatenate categorical, time, continuous and continuous logged features\n",
    "    x = concatenate([c,t,f])\n",
    "\n",
    "    # add fully interconnected dense, dropout and normalization layers\n",
    "    x = Dense(500,activation='relu',kernel_initializer='glorot_normal',bias_initializer='normal')(x)\n",
    "    x = Dropout(rate=r)(x)\n",
    "    x = BatchNormalization()(x)\n",
    "    x = Dense(500,activation='relu',kernel_initializer='glorot_normal',bias_initializer='normal')(x)\n",
    "    x = Dropout(rate=r)(x)\n",
    "    x = BatchNormalization()(x)\n",
    "    x = Dense(1, activation='relu',kernel_initializer='glorot_normal',bias_initializer='normal')(x) \n",
    "    \n",
    "    # add input layer for the model\n",
    "    model = Model([inp for inp,cat in cats] + [inp for inp,time in times] + [inp for inp,cont in conts], x)\n",
    "    \n",
    "    #  compile with optimizer, loss and metrics\n",
    "    model.compile(optimizer='Adam', loss = MSE, metrics = ['mae','mse'])\n",
    "    \n",
    "    return model"
   ]
  },
  {
   "cell_type": "code",
   "execution_count": 31,
   "metadata": {},
   "outputs": [],
   "source": [
    "quantity_model = build_quantity_model(cats, times, conts)"
   ]
  },
  {
   "cell_type": "code",
   "execution_count": 32,
   "metadata": {},
   "outputs": [],
   "source": [
    "# save a text copy of quantity_model \n",
    "#filename = os.path.join('quantity_maps','quantity_model_')\n",
    "#with open(filename + 'report.txt','w') as fh:\n",
    "    # Pass the file handle in as a lambda function to make it callable\n",
    "#    quantity_model.summary(print_fn=lambda x: fh.write(x + '\\n'))"
   ]
  },
  {
   "cell_type": "code",
   "execution_count": 33,
   "metadata": {},
   "outputs": [],
   "source": [
    "# plot and save quantity model\n",
    "#filename = os.path.join('quantity_maps','quantity_model.png')\n",
    "#plot_model(quantity_model, filename, show_shapes=True)"
   ]
  },
  {
   "cell_type": "code",
   "execution_count": 34,
   "metadata": {},
   "outputs": [],
   "source": [
    "# Initialize callbacks\n",
    "\n",
    "es = EarlyStopping(monitor='loss', patience=5, verbose=0,\n",
    "    mode='auto', min_delta=.015, restore_best_weights=True)\n",
    "\n",
    "rlr = ReduceLROnPlateau(monitor='loss', factor=0.85,\n",
    "                              mode = 'min', min_delta=.01, patience=2, min_lr=0.0005)\n",
    "filepath = 'quantity_checkpoint'\n",
    "mckp = ModelCheckpoint(filepath=filepath, monitor='val_loss', verbose=0, save_best_only=True,\n",
    "    save_weights_only=True, mode='auto', save_freq='epoch')"
   ]
  },
  {
   "cell_type": "code",
   "execution_count": 35,
   "metadata": {},
   "outputs": [
    {
     "name": "stdout",
     "output_type": "stream",
     "text": [
      "Train on 4061 samples, validate on 717 samples\n",
      "Epoch 1/30\n",
      "4061/4061 [==============================] - 21s 5ms/sample - loss: 97.0974 - mae: 8.9795 - mse: 91.4218 - val_loss: 5.5183 - val_mae: 1.9607 - val_mse: 5.5183\n",
      "Epoch 2/30\n",
      "4061/4061 [==============================] - 8s 2ms/sample - loss: 46.8600 - mae: 5.2894 - mse: 44.0478 - val_loss: 20.0897 - val_mae: 4.0620 - val_mse: 20.0897\n",
      "Epoch 3/30\n",
      "4061/4061 [==============================] - 8s 2ms/sample - loss: 20.4684 - mae: 2.9976 - mse: 19.1980 - val_loss: 8.1436 - val_mae: 2.3354 - val_mse: 8.1436\n",
      "Epoch 4/30\n",
      "4061/4061 [==============================] - 8s 2ms/sample - loss: 17.3166 - mae: 2.6324 - mse: 16.2791 - val_loss: 7.1032 - val_mae: 2.1687 - val_mse: 7.1032\n",
      "Epoch 5/30\n",
      "4061/4061 [==============================] - 8s 2ms/sample - loss: 15.4881 - mae: 2.4394 - mse: 14.5341 - val_loss: 4.0944 - val_mae: 1.6031 - val_mse: 4.0944\n",
      "Epoch 6/30\n",
      "4061/4061 [==============================] - 8s 2ms/sample - loss: 12.6487 - mae: 2.1370 - mse: 11.8841 - val_loss: 2.6914 - val_mae: 1.3272 - val_mse: 2.6914\n",
      "Epoch 7/30\n",
      "4061/4061 [==============================] - 8s 2ms/sample - loss: 11.2372 - mae: 1.9826 - mse: 10.5380 - val_loss: 2.3959 - val_mae: 1.2250 - val_mse: 2.3959\n",
      "Epoch 8/30\n",
      "4061/4061 [==============================] - 9s 2ms/sample - loss: 10.6214 - mae: 1.8787 - mse: 10.0149 - val_loss: 4.0039 - val_mae: 1.2393 - val_mse: 4.0039\n",
      "Epoch 9/30\n",
      "4061/4061 [==============================] - 9s 2ms/sample - loss: 9.9220 - mae: 1.7929 - mse: 9.3519 - val_loss: 3.9016 - val_mae: 1.2060 - val_mse: 3.9016\n",
      "Epoch 10/30\n",
      "4061/4061 [==============================] - 9s 2ms/sample - loss: 9.4267 - mae: 1.7411 - mse: 8.8926 - val_loss: 3.5636 - val_mae: 1.0802 - val_mse: 3.5636\n",
      "Epoch 11/30\n",
      "4061/4061 [==============================] - 9s 2ms/sample - loss: 8.8295 - mae: 1.6946 - mse: 8.3093 - val_loss: 4.1370 - val_mae: 1.2625 - val_mse: 4.1370\n",
      "Epoch 12/30\n",
      "4061/4061 [==============================] - 10s 2ms/sample - loss: 8.5982 - mae: 1.6892 - mse: 8.0912 - val_loss: 3.6515 - val_mae: 1.0926 - val_mse: 3.6515\n",
      "Epoch 13/30\n",
      "4061/4061 [==============================] - 10s 3ms/sample - loss: 7.7846 - mae: 1.6258 - mse: 7.2778 - val_loss: 7.0427 - val_mae: 2.1759 - val_mse: 7.0427\n",
      "Epoch 14/30\n",
      "4061/4061 [==============================] - 10s 2ms/sample - loss: 5.6883 - mae: 1.4838 - mse: 5.3543 - val_loss: 3.4107 - val_mae: 0.9546 - val_mse: 3.4107\n",
      "Epoch 15/30\n",
      "4061/4061 [==============================] - 10s 2ms/sample - loss: 4.8824 - mae: 1.3832 - mse: 4.6358 - val_loss: 3.2013 - val_mae: 0.9285 - val_mse: 3.2013\n",
      "Epoch 16/30\n",
      "4061/4061 [==============================] - 10s 2ms/sample - loss: 4.3900 - mae: 1.3045 - mse: 4.1371 - val_loss: 2.5979 - val_mae: 0.9174 - val_mse: 2.5979\n",
      "Epoch 17/30\n",
      "4061/4061 [==============================] - 11s 3ms/sample - loss: 3.8466 - mae: 1.2480 - mse: 3.6528 - val_loss: 2.2410 - val_mae: 0.8874 - val_mse: 2.2410\n",
      "Epoch 18/30\n",
      "4061/4061 [==============================] - 10s 2ms/sample - loss: 3.6192 - mae: 1.2152 - mse: 3.4197 - val_loss: 2.6321 - val_mae: 0.9016 - val_mse: 2.6321\n",
      "Epoch 19/30\n",
      "4061/4061 [==============================] - 10s 2ms/sample - loss: 3.8369 - mae: 1.2372 - mse: 3.6065 - val_loss: 0.7391 - val_mae: 0.7175 - val_mse: 0.7391\n",
      "Epoch 20/30\n",
      "4061/4061 [==============================] - 12s 3ms/sample - loss: 3.1723 - mae: 1.1581 - mse: 2.9859 - val_loss: 1.2551 - val_mae: 0.8086 - val_mse: 1.2551\n",
      "Epoch 21/30\n",
      "4061/4061 [==============================] - 13s 3ms/sample - loss: 3.0493 - mae: 1.1483 - mse: 2.8389 - val_loss: 1.1002 - val_mae: 0.8580 - val_mse: 1.1002\n",
      "Epoch 22/30\n",
      "4061/4061 [==============================] - 12s 3ms/sample - loss: 2.8343 - mae: 1.1130 - mse: 2.6712 - val_loss: 3.1884 - val_mae: 0.9046 - val_mse: 3.1884\n",
      "Epoch 23/30\n",
      "4061/4061 [==============================] - 11s 3ms/sample - loss: 2.8455 - mae: 1.1046 - mse: 2.6724 - val_loss: 1.9790 - val_mae: 0.8409 - val_mse: 1.9790\n",
      "Epoch 24/30\n",
      "4061/4061 [==============================] - 11s 3ms/sample - loss: 2.5088 - mae: 1.0875 - mse: 2.3618 - val_loss: 1.9722 - val_mae: 0.9167 - val_mse: 1.9722\n",
      "Epoch 25/30\n",
      "4061/4061 [==============================] - 12s 3ms/sample - loss: 2.5177 - mae: 1.0612 - mse: 2.3466 - val_loss: 3.0123 - val_mae: 0.9272 - val_mse: 3.0123\n",
      "Epoch 26/30\n",
      "4061/4061 [==============================] - 12s 3ms/sample - loss: 2.4525 - mae: 1.0537 - mse: 2.2979 - val_loss: 3.1385 - val_mae: 0.9161 - val_mse: 3.1385\n",
      "Epoch 27/30\n",
      "4061/4061 [==============================] - 13s 3ms/sample - loss: 2.3452 - mae: 1.0490 - mse: 2.2035 - val_loss: 2.9803 - val_mae: 0.9011 - val_mse: 2.9803\n",
      "Epoch 28/30\n",
      "4061/4061 [==============================] - 14s 3ms/sample - loss: 2.3979 - mae: 1.0478 - mse: 2.2557 - val_loss: 3.2061 - val_mae: 0.9338 - val_mse: 3.2061\n",
      "Epoch 29/30\n",
      "4061/4061 [==============================] - 12s 3ms/sample - loss: 2.3164 - mae: 1.0153 - mse: 2.1607 - val_loss: 2.5616 - val_mae: 0.9182 - val_mse: 2.5616\n",
      "Epoch 30/30\n",
      "4061/4061 [==============================] - 15s 4ms/sample - loss: 2.2564 - mae: 1.0180 - mse: 2.1300 - val_loss: 1.7764 - val_mae: 0.8296 - val_mse: 1.7764\n"
     ]
    },
    {
     "data": {
      "text/plain": [
       "<tensorflow.python.keras.callbacks.History at 0x7f156b841750>"
      ]
     },
     "execution_count": 35,
     "metadata": {},
     "output_type": "execute_result"
    }
   ],
   "source": [
    "# Train the model using early stopping and reducing learning rates to reduce overfitting and 'memorization'.\n",
    "\n",
    "quantity_model.fit(X_train,y_train,\n",
    "            batch_size=64,\n",
    "            epochs=30,\n",
    "            verbose=True,\n",
    "            validation_data = (X_val, y_val), sample_weight = train_weight,\n",
    "            callbacks=[es,rlr,mckp])"
   ]
  },
  {
   "cell_type": "code",
   "execution_count": 36,
   "metadata": {},
   "outputs": [
    {
     "data": {
      "text/html": [
       "<div>\n",
       "<style scoped>\n",
       "    .dataframe tbody tr th:only-of-type {\n",
       "        vertical-align: middle;\n",
       "    }\n",
       "\n",
       "    .dataframe tbody tr th {\n",
       "        vertical-align: top;\n",
       "    }\n",
       "\n",
       "    .dataframe thead th {\n",
       "        text-align: right;\n",
       "    }\n",
       "</style>\n",
       "<table border=\"1\" class=\"dataframe\">\n",
       "  <thead>\n",
       "    <tr style=\"text-align: right;\">\n",
       "      <th></th>\n",
       "      <th>loss</th>\n",
       "      <th>mae</th>\n",
       "      <th>mse</th>\n",
       "      <th>val_loss</th>\n",
       "      <th>val_mae</th>\n",
       "      <th>val_mse</th>\n",
       "      <th>lr</th>\n",
       "    </tr>\n",
       "  </thead>\n",
       "  <tbody>\n",
       "    <tr>\n",
       "      <th>0</th>\n",
       "      <td>97.097374</td>\n",
       "      <td>8.979527</td>\n",
       "      <td>91.421837</td>\n",
       "      <td>5.518292</td>\n",
       "      <td>1.960679</td>\n",
       "      <td>5.518291</td>\n",
       "      <td>0.001</td>\n",
       "    </tr>\n",
       "    <tr>\n",
       "      <th>1</th>\n",
       "      <td>46.859964</td>\n",
       "      <td>5.289447</td>\n",
       "      <td>44.047821</td>\n",
       "      <td>20.089675</td>\n",
       "      <td>4.061954</td>\n",
       "      <td>20.089674</td>\n",
       "      <td>0.001</td>\n",
       "    </tr>\n",
       "    <tr>\n",
       "      <th>2</th>\n",
       "      <td>20.468434</td>\n",
       "      <td>2.997552</td>\n",
       "      <td>19.197954</td>\n",
       "      <td>8.143596</td>\n",
       "      <td>2.335359</td>\n",
       "      <td>8.143595</td>\n",
       "      <td>0.001</td>\n",
       "    </tr>\n",
       "    <tr>\n",
       "      <th>3</th>\n",
       "      <td>17.316557</td>\n",
       "      <td>2.632395</td>\n",
       "      <td>16.279146</td>\n",
       "      <td>7.103186</td>\n",
       "      <td>2.168734</td>\n",
       "      <td>7.103185</td>\n",
       "      <td>0.001</td>\n",
       "    </tr>\n",
       "    <tr>\n",
       "      <th>4</th>\n",
       "      <td>15.488128</td>\n",
       "      <td>2.439391</td>\n",
       "      <td>14.534078</td>\n",
       "      <td>4.094400</td>\n",
       "      <td>1.603060</td>\n",
       "      <td>4.094400</td>\n",
       "      <td>0.001</td>\n",
       "    </tr>\n",
       "  </tbody>\n",
       "</table>\n",
       "</div>"
      ],
      "text/plain": [
       "        loss       mae        mse   val_loss   val_mae    val_mse     lr\n",
       "0  97.097374  8.979527  91.421837   5.518292  1.960679   5.518291  0.001\n",
       "1  46.859964  5.289447  44.047821  20.089675  4.061954  20.089674  0.001\n",
       "2  20.468434  2.997552  19.197954   8.143596  2.335359   8.143595  0.001\n",
       "3  17.316557  2.632395  16.279146   7.103186  2.168734   7.103185  0.001\n",
       "4  15.488128  2.439391  14.534078   4.094400  1.603060   4.094400  0.001"
      ]
     },
     "execution_count": 36,
     "metadata": {},
     "output_type": "execute_result"
    },
    {
     "data": {
      "text/html": [
       "<div>\n",
       "<style scoped>\n",
       "    .dataframe tbody tr th:only-of-type {\n",
       "        vertical-align: middle;\n",
       "    }\n",
       "\n",
       "    .dataframe tbody tr th {\n",
       "        vertical-align: top;\n",
       "    }\n",
       "\n",
       "    .dataframe thead th {\n",
       "        text-align: right;\n",
       "    }\n",
       "</style>\n",
       "<table border=\"1\" class=\"dataframe\">\n",
       "  <thead>\n",
       "    <tr style=\"text-align: right;\">\n",
       "      <th></th>\n",
       "      <th>loss</th>\n",
       "      <th>mae</th>\n",
       "      <th>mse</th>\n",
       "      <th>val_loss</th>\n",
       "      <th>val_mae</th>\n",
       "      <th>val_mse</th>\n",
       "      <th>lr</th>\n",
       "    </tr>\n",
       "  </thead>\n",
       "  <tbody>\n",
       "    <tr>\n",
       "      <th>25</th>\n",
       "      <td>2.452472</td>\n",
       "      <td>1.053673</td>\n",
       "      <td>2.297906</td>\n",
       "      <td>3.138505</td>\n",
       "      <td>0.916123</td>\n",
       "      <td>3.138505</td>\n",
       "      <td>0.001</td>\n",
       "    </tr>\n",
       "    <tr>\n",
       "      <th>26</th>\n",
       "      <td>2.345233</td>\n",
       "      <td>1.048987</td>\n",
       "      <td>2.203529</td>\n",
       "      <td>2.980256</td>\n",
       "      <td>0.901129</td>\n",
       "      <td>2.980256</td>\n",
       "      <td>0.001</td>\n",
       "    </tr>\n",
       "    <tr>\n",
       "      <th>27</th>\n",
       "      <td>2.397851</td>\n",
       "      <td>1.047766</td>\n",
       "      <td>2.255699</td>\n",
       "      <td>3.206138</td>\n",
       "      <td>0.933817</td>\n",
       "      <td>3.206138</td>\n",
       "      <td>0.001</td>\n",
       "    </tr>\n",
       "    <tr>\n",
       "      <th>28</th>\n",
       "      <td>2.316371</td>\n",
       "      <td>1.015317</td>\n",
       "      <td>2.160655</td>\n",
       "      <td>2.561597</td>\n",
       "      <td>0.918202</td>\n",
       "      <td>2.561597</td>\n",
       "      <td>0.001</td>\n",
       "    </tr>\n",
       "    <tr>\n",
       "      <th>29</th>\n",
       "      <td>2.256350</td>\n",
       "      <td>1.017963</td>\n",
       "      <td>2.130037</td>\n",
       "      <td>1.776437</td>\n",
       "      <td>0.829595</td>\n",
       "      <td>1.776437</td>\n",
       "      <td>0.001</td>\n",
       "    </tr>\n",
       "  </tbody>\n",
       "</table>\n",
       "</div>"
      ],
      "text/plain": [
       "        loss       mae       mse  val_loss   val_mae   val_mse     lr\n",
       "25  2.452472  1.053673  2.297906  3.138505  0.916123  3.138505  0.001\n",
       "26  2.345233  1.048987  2.203529  2.980256  0.901129  2.980256  0.001\n",
       "27  2.397851  1.047766  2.255699  3.206138  0.933817  3.206138  0.001\n",
       "28  2.316371  1.015317  2.160655  2.561597  0.918202  2.561597  0.001\n",
       "29  2.256350  1.017963  2.130037  1.776437  0.829595  1.776437  0.001"
      ]
     },
     "execution_count": 36,
     "metadata": {},
     "output_type": "execute_result"
    },
    {
     "data": {
      "text/plain": [
       "<matplotlib.axes._subplots.AxesSubplot at 0x7f1551857a90>"
      ]
     },
     "execution_count": 36,
     "metadata": {},
     "output_type": "execute_result"
    },
    {
     "data": {
      "text/plain": [
       "<matplotlib.axes._subplots.AxesSubplot at 0x7f1559530650>"
      ]
     },
     "execution_count": 36,
     "metadata": {},
     "output_type": "execute_result"
    },
    {
     "data": {
      "text/plain": [
       "<matplotlib.axes._subplots.AxesSubplot at 0x7f155951b190>"
      ]
     },
     "execution_count": 36,
     "metadata": {},
     "output_type": "execute_result"
    },
    {
     "data": {
      "image/png": "[encoded data removed]",
      "text/plain": [
       "<Figure size 432x288 with 1 Axes>"
      ]
     },
     "metadata": {
      "needs_background": "light"
     },
     "output_type": "display_data"
    },
    {
     "data": {
      "image/png": "[encoded data removed]",
      "text/plain": [
       "<Figure size 432x288 with 1 Axes>"
      ]
     },
     "metadata": {
      "needs_background": "light"
     },
     "output_type": "display_data"
    },
    {
     "data": {
      "image/png": "[encoded data removed]",
      "text/plain": [
       "<Figure size 432x288 with 1 Axes>"
      ]
     },
     "metadata": {
      "needs_background": "light"
     },
     "output_type": "display_data"
    }
   ],
   "source": [
    "# call history\n",
    "dh = pd.DataFrame(data=quantity_model.history.history)\n",
    "\n",
    "# check learning rate and loss\n",
    "dh.head();dh.tail()\n",
    "\n",
    "# plot training vs validation\n",
    "dh[['loss','val_loss']].plot()\n",
    "dh[['mae','val_mae']].plot()\n",
    "dh[['mse','val_mse']].plot()"
   ]
  },
  {
   "cell_type": "code",
   "execution_count": 37,
   "metadata": {},
   "outputs": [
    {
     "data": {
      "text/plain": [
       "8.203026232359155"
      ]
     },
     "execution_count": 37,
     "metadata": {},
     "output_type": "execute_result"
    },
    {
     "data": {
      "text/plain": [
       "11.242350514283656"
      ]
     },
     "execution_count": 37,
     "metadata": {},
     "output_type": "execute_result"
    },
    {
     "data": {
      "text/plain": [
       "<matplotlib.collections.PathCollection at 0x7f155069a750>"
      ]
     },
     "execution_count": 37,
     "metadata": {},
     "output_type": "execute_result"
    },
    {
     "data": {
      "image/png": "[encoded data removed]",
      "text/plain": [
       "<Figure size 432x288 with 1 Axes>"
      ]
     },
     "metadata": {
      "needs_background": "light"
     },
     "output_type": "display_data"
    }
   ],
   "source": [
    "# Confirm performance using test data\n",
    "\n",
    "# make prediction in scaled log of quantity \n",
    "y_pred_test = quantity_model.predict(X_test)\n",
    "\n",
    "# compute array of differences between predictions and actuals\n",
    "y_diff_test = abs(y_test - y_pred_test)\n",
    "\n",
    "# compute percentage errors on y_test\n",
    "y_percent_error_test = 100 * y_diff_test/y_test\n",
    "\n",
    "# compute mean of percent error\n",
    "y_percent_error_test.mean()\n",
    "\n",
    "# compute deviation of percent error\n",
    "y_percent_error_test.std()\n",
    "\n",
    "# show scatter plot of error\n",
    "plt.scatter(y_test,y_pred_test)"
   ]
  },
  {
   "cell_type": "code",
   "execution_count": 38,
   "metadata": {},
   "outputs": [
    {
     "name": "stdout",
     "output_type": "stream",
     "text": [
      "WARNING:tensorflow:From /home/dennis/anaconda3/envs/tf/lib/python3.7/site-packages/tensorflow_core/python/ops/resource_variable_ops.py:1781: calling BaseResourceVariable.__init__ (from tensorflow.python.ops.resource_variable_ops) with constraint is deprecated and will be removed in a future version.\n",
      "Instructions for updating:\n",
      "If using Keras pass *_constraint arguments to layers.\n",
      "INFO:tensorflow:Assets written to: quantity_val_model/assets\n"
     ]
    }
   ],
   "source": [
    "filepath = 'quantity_val_model'\n",
    "save_model(quantity_model, filepath, overwrite=True, include_optimizer=True, save_format=None,\n",
    "    signatures=None, options=None)"
   ]
  },
  {
   "cell_type": "code",
   "execution_count": 39,
   "metadata": {},
   "outputs": [],
   "source": [
    "from tensorflow.keras.backend import clear_session\n",
    "clear_session()"
   ]
  },
  {
   "cell_type": "markdown",
   "metadata": {},
   "source": [
    "### Retrain predictor with all data and epochs limited to early stopping point on validated training session"
   ]
  },
  {
   "cell_type": "code",
   "execution_count": 40,
   "metadata": {},
   "outputs": [],
   "source": [
    "# Train the predictor using all of the data set except the reserved test set for final evaluation\n",
    "\n",
    "# set the number of epochs from validation set model using early stopping\n",
    "\n",
    "e = dh.val_loss.min()\n",
    "e = dh.index[dh['val_loss']== e]\n",
    "epochs = e[0]\n",
    "\n",
    "# initiate callbacks\n",
    "\n",
    "es = EarlyStopping(monitor='loss', patience=3, verbose=0,\n",
    "    mode='auto', min_delta=.0005, restore_best_weights=True)\n",
    "\n",
    "rlr = ReduceLROnPlateau(monitor='loss', factor=0.85,\n",
    "                              mode = 'min', min_delta=.0005, patience=2, min_lr=0.0001)\n",
    "\n",
    "mckp = ModelCheckpoint(filepath='win_all_checkpoint', monitor='loss', verbose=0, save_best_only=True,\n",
    "    save_weights_only=False, mode='auto', save_freq='epoch')\n"
   ]
  },
  {
   "cell_type": "code",
   "execution_count": 41,
   "metadata": {},
   "outputs": [
    {
     "name": "stdout",
     "output_type": "stream",
     "text": [
      "Train on 4778 samples\n",
      "Epoch 1/18\n",
      "4778/4778 [==============================] - 10s 2ms/sample - loss: 2.2042 - mae: 1.0116 - mse: 2.0669\n",
      "Epoch 2/18\n",
      "4778/4778 [==============================] - 12s 3ms/sample - loss: 1.8304 - mae: 0.9722 - mse: 1.7084\n",
      "Epoch 3/18\n",
      "4778/4778 [==============================] - 12s 2ms/sample - loss: 1.8847 - mae: 0.9620 - mse: 1.7650\n",
      "Epoch 4/18\n",
      "4778/4778 [==============================] - 12s 3ms/sample - loss: 1.8860 - mae: 0.9584 - mse: 1.7687\n",
      "Epoch 5/18\n",
      "4778/4778 [==============================] - 13s 3ms/sample - loss: 1.7398 - mae: 0.9396 - mse: 1.6220\n",
      "Epoch 6/18\n",
      "4778/4778 [==============================] - 12s 3ms/sample - loss: 1.7534 - mae: 0.9261 - mse: 1.6482\n",
      "Epoch 7/18\n",
      "4778/4778 [==============================] - 13s 3ms/sample - loss: 1.8668 - mae: 0.9485 - mse: 1.7523\n",
      "Epoch 8/18\n",
      "4778/4778 [==============================] - 11s 2ms/sample - loss: 1.7559 - mae: 0.9386 - mse: 1.6451\n"
     ]
    },
    {
     "data": {
      "text/plain": [
       "<tensorflow.python.keras.callbacks.History at 0x7f1526ed48d0>"
      ]
     },
     "execution_count": 41,
     "metadata": {},
     "output_type": "execute_result"
    }
   ],
   "source": [
    "# Additional training on merged train and validation set with epochs limited to the min loss epoch on validation set\n",
    "# when order_model is fit the second time, even with changed data, it loads the final weights from the first fit automatically\n",
    "# clear_session does not reset the weights in the model and the learning rate starts at the last rlr learning rate\n",
    "\n",
    "quantity_model.fit(X_all,y_all,\n",
    "            batch_size=64,\n",
    "            epochs=epochs,\n",
    "            verbose=True,\n",
    "            validation_data = None, sample_weight=all_weight,\n",
    "            callbacks=[es,rlr])"
   ]
  },
  {
   "cell_type": "code",
   "execution_count": 42,
   "metadata": {},
   "outputs": [
    {
     "name": "stdout",
     "output_type": "stream",
     "text": [
      "INFO:tensorflow:Assets written to: quantity_all_model/assets\n"
     ]
    }
   ],
   "source": [
    "# Save model for prediction\n",
    "\n",
    "filepath = 'quantity_all_model'\n",
    "save_model(quantity_model, filepath, overwrite=True, include_optimizer=True, save_format=None,\n",
    "    signatures=None, options=None)"
   ]
  },
  {
   "cell_type": "code",
   "execution_count": 43,
   "metadata": {},
   "outputs": [
    {
     "data": {
      "text/html": [
       "<div>\n",
       "<style scoped>\n",
       "    .dataframe tbody tr th:only-of-type {\n",
       "        vertical-align: middle;\n",
       "    }\n",
       "\n",
       "    .dataframe tbody tr th {\n",
       "        vertical-align: top;\n",
       "    }\n",
       "\n",
       "    .dataframe thead th {\n",
       "        text-align: right;\n",
       "    }\n",
       "</style>\n",
       "<table border=\"1\" class=\"dataframe\">\n",
       "  <thead>\n",
       "    <tr style=\"text-align: right;\">\n",
       "      <th></th>\n",
       "      <th>loss</th>\n",
       "      <th>mae</th>\n",
       "      <th>mse</th>\n",
       "      <th>lr</th>\n",
       "    </tr>\n",
       "  </thead>\n",
       "  <tbody>\n",
       "    <tr>\n",
       "      <th>0</th>\n",
       "      <td>2.204202</td>\n",
       "      <td>1.011604</td>\n",
       "      <td>2.066913</td>\n",
       "      <td>0.00100</td>\n",
       "    </tr>\n",
       "    <tr>\n",
       "      <th>1</th>\n",
       "      <td>1.830368</td>\n",
       "      <td>0.972223</td>\n",
       "      <td>1.708377</td>\n",
       "      <td>0.00100</td>\n",
       "    </tr>\n",
       "    <tr>\n",
       "      <th>2</th>\n",
       "      <td>1.884685</td>\n",
       "      <td>0.962020</td>\n",
       "      <td>1.764955</td>\n",
       "      <td>0.00100</td>\n",
       "    </tr>\n",
       "    <tr>\n",
       "      <th>3</th>\n",
       "      <td>1.886005</td>\n",
       "      <td>0.958375</td>\n",
       "      <td>1.768717</td>\n",
       "      <td>0.00100</td>\n",
       "    </tr>\n",
       "    <tr>\n",
       "      <th>4</th>\n",
       "      <td>1.739752</td>\n",
       "      <td>0.939563</td>\n",
       "      <td>1.621954</td>\n",
       "      <td>0.00085</td>\n",
       "    </tr>\n",
       "  </tbody>\n",
       "</table>\n",
       "</div>"
      ],
      "text/plain": [
       "       loss       mae       mse       lr\n",
       "0  2.204202  1.011604  2.066913  0.00100\n",
       "1  1.830368  0.972223  1.708377  0.00100\n",
       "2  1.884685  0.962020  1.764955  0.00100\n",
       "3  1.886005  0.958375  1.768717  0.00100\n",
       "4  1.739752  0.939563  1.621954  0.00085"
      ]
     },
     "execution_count": 43,
     "metadata": {},
     "output_type": "execute_result"
    },
    {
     "data": {
      "text/html": [
       "<div>\n",
       "<style scoped>\n",
       "    .dataframe tbody tr th:only-of-type {\n",
       "        vertical-align: middle;\n",
       "    }\n",
       "\n",
       "    .dataframe tbody tr th {\n",
       "        vertical-align: top;\n",
       "    }\n",
       "\n",
       "    .dataframe thead th {\n",
       "        text-align: right;\n",
       "    }\n",
       "</style>\n",
       "<table border=\"1\" class=\"dataframe\">\n",
       "  <thead>\n",
       "    <tr style=\"text-align: right;\">\n",
       "      <th></th>\n",
       "      <th>loss</th>\n",
       "      <th>mae</th>\n",
       "      <th>mse</th>\n",
       "      <th>lr</th>\n",
       "    </tr>\n",
       "  </thead>\n",
       "  <tbody>\n",
       "    <tr>\n",
       "      <th>3</th>\n",
       "      <td>1.886005</td>\n",
       "      <td>0.958375</td>\n",
       "      <td>1.768717</td>\n",
       "      <td>0.001000</td>\n",
       "    </tr>\n",
       "    <tr>\n",
       "      <th>4</th>\n",
       "      <td>1.739752</td>\n",
       "      <td>0.939563</td>\n",
       "      <td>1.621954</td>\n",
       "      <td>0.000850</td>\n",
       "    </tr>\n",
       "    <tr>\n",
       "      <th>5</th>\n",
       "      <td>1.753404</td>\n",
       "      <td>0.926119</td>\n",
       "      <td>1.648175</td>\n",
       "      <td>0.000850</td>\n",
       "    </tr>\n",
       "    <tr>\n",
       "      <th>6</th>\n",
       "      <td>1.866848</td>\n",
       "      <td>0.948451</td>\n",
       "      <td>1.752339</td>\n",
       "      <td>0.000850</td>\n",
       "    </tr>\n",
       "    <tr>\n",
       "      <th>7</th>\n",
       "      <td>1.755854</td>\n",
       "      <td>0.938630</td>\n",
       "      <td>1.645121</td>\n",
       "      <td>0.000723</td>\n",
       "    </tr>\n",
       "  </tbody>\n",
       "</table>\n",
       "</div>"
      ],
      "text/plain": [
       "       loss       mae       mse        lr\n",
       "3  1.886005  0.958375  1.768717  0.001000\n",
       "4  1.739752  0.939563  1.621954  0.000850\n",
       "5  1.753404  0.926119  1.648175  0.000850\n",
       "6  1.866848  0.948451  1.752339  0.000850\n",
       "7  1.755854  0.938630  1.645121  0.000723"
      ]
     },
     "execution_count": 43,
     "metadata": {},
     "output_type": "execute_result"
    }
   ],
   "source": [
    "# recover history\n",
    "da = pd.DataFrame(data=quantity_model.history.history)\n",
    "\n",
    "# check learning rates\n",
    "da.head();da.tail()"
   ]
  },
  {
   "cell_type": "code",
   "execution_count": 44,
   "metadata": {},
   "outputs": [
    {
     "data": {
      "text/plain": [
       "1.32375352283014"
      ]
     },
     "execution_count": 44,
     "metadata": {},
     "output_type": "execute_result"
    },
    {
     "data": {
      "text/plain": [
       "8.321125319886356"
      ]
     },
     "execution_count": 44,
     "metadata": {},
     "output_type": "execute_result"
    },
    {
     "data": {
      "text/plain": [
       "<matplotlib.collections.PathCollection at 0x7f1530ec17d0>"
      ]
     },
     "execution_count": 44,
     "metadata": {},
     "output_type": "execute_result"
    },
    {
     "data": {
      "image/png": "[encoded data removed]",
      "text/plain": [
       "<Figure size 432x288 with 1 Axes>"
      ]
     },
     "metadata": {
      "needs_background": "light"
     },
     "output_type": "display_data"
    }
   ],
   "source": [
    "# Confirm performance using test data\n",
    "\n",
    "# make prediction in scaled log of quantity \n",
    "y_pred_test = quantity_model.predict(X_test)\n",
    "\n",
    "# compute array of differences between predictions and actuals\n",
    "y_diff_test = y_test - y_pred_test\n",
    "\n",
    "# compute percentage errors on y_test\n",
    "y_percent_error_test = 100 * y_diff_test/y_test\n",
    "\n",
    "# compute mean of percent error\n",
    "y_percent_error_test.mean()\n",
    "\n",
    "# compute deviation of percent error\n",
    "y_percent_error_test.std()\n",
    "\n",
    "# show scatter plot of error\n",
    "plt.scatter(y_test,y_pred_test)"
   ]
  },
  {
   "cell_type": "code",
   "execution_count": 45,
   "metadata": {},
   "outputs": [
    {
     "data": {
      "text/plain": [
       "162936"
      ]
     },
     "execution_count": 45,
     "metadata": {},
     "output_type": "execute_result"
    }
   ],
   "source": [
    "from tensorflow.keras.backend import clear_session\n",
    "clear_session()\n",
    "del quantity_model\n",
    "gc.collect()"
   ]
  },
  {
   "cell_type": "code",
   "execution_count": null,
   "metadata": {},
   "outputs": [],
   "source": []
  }
 ],
 "metadata": {
  "kernelspec": {
   "display_name": "Python 3",
   "language": "python",
   "name": "python3"
  },
  "language_info": {
   "codemirror_mode": {
    "name": "ipython",
    "version": 3
   },
   "file_extension": ".py",
   "mimetype": "text/x-python",
   "name": "python",
   "nbconvert_exporter": "python",
   "pygments_lexer": "ipython3",
   "version": "3.7.6"
  }
 },
 "nbformat": 4,
 "nbformat_minor": 4
}
