{
 "cells": [
  {
   "cell_type": "markdown",
   "metadata": {},
   "source": [
    "## Purpose: An quote to order model that will generalize to inputs beyond range of dataset.  \n",
    "### A closed order is a quote that results in an order within 90 days from the quote date. "
   ]
  },
  {
   "cell_type": "markdown",
   "metadata": {},
   "source": [
    "### This model is designed to work with sparse data and high granularity.  In this case, granulaty is from many part numbers in combination with many customers with intermittent purchases.  No complete time sequences exist due to the granularity.  It can be applied to retail and distribution models as well as demand planning systems."
   ]
  },
  {
   "cell_type": "markdown",
   "metadata": {},
   "source": [
    "## Build Quote to Order Probability ('Win') Predictor "
   ]
  },
  {
   "cell_type": "markdown",
   "metadata": {},
   "source": [
    "### Libraries and Utilities"
   ]
  },
  {
   "cell_type": "code",
   "execution_count": 1,
   "metadata": {},
   "outputs": [],
   "source": [
    "%reload_ext autoreload\n",
    "%autoreload"
   ]
  },
  {
   "cell_type": "code",
   "execution_count": 2,
   "metadata": {},
   "outputs": [],
   "source": [
    "!mkdir win_checkpoint\n",
    "!mkdir win_all_checkpoint\n",
    "!mkdir win_all_model\n",
    "!mkdir win_maps\n",
    "!mkdir win_val_model"
   ]
  },
  {
   "cell_type": "code",
   "execution_count": 3,
   "metadata": {},
   "outputs": [],
   "source": [
    "import warnings\n",
    "warnings.filterwarnings('ignore')"
   ]
  },
  {
   "cell_type": "code",
   "execution_count": 4,
   "metadata": {},
   "outputs": [],
   "source": [
    "#allow cell to perform multiple computations\n",
    "\n",
    "from IPython.core.interactiveshell import InteractiveShell\n",
    "InteractiveShell.ast_node_interactivity = \"all\""
   ]
  },
  {
   "cell_type": "code",
   "execution_count": 5,
   "metadata": {},
   "outputs": [
    {
     "data": {
      "text/html": [
       "<style>.container { width:100% !important; }</style>"
      ],
      "text/plain": [
       "<IPython.core.display.HTML object>"
      ]
     },
     "metadata": {},
     "output_type": "display_data"
    }
   ],
   "source": [
    "#set cell width as percentage of window\n",
    "\n",
    "from IPython.core.display import display, HTML\n",
    "display(HTML(\"<style>.container { width:100% !important; }</style>\"))"
   ]
  },
  {
   "cell_type": "code",
   "execution_count": 6,
   "metadata": {},
   "outputs": [],
   "source": [
    "from tensorflow.keras.backend import clear_session\n",
    "clear_session()"
   ]
  },
  {
   "cell_type": "code",
   "execution_count": 7,
   "metadata": {},
   "outputs": [],
   "source": [
    "# Python libraries needed\n",
    "\n",
    "import pandas as pd\n",
    "import numpy as np\n",
    "import matplotlib.pyplot as plt\n",
    "from datetime import datetime as dt\n",
    "import math\n",
    "from sklearn.model_selection import train_test_split\n",
    "from sklearn.preprocessing import LabelEncoder, StandardScaler, MinMaxScaler, RobustScaler\n",
    "from sklearn_pandas import DataFrameMapper \n",
    "import os as os\n",
    "import string\n",
    "from joblib import dump, load\n",
    "import time\n",
    "import gc"
   ]
  },
  {
   "cell_type": "markdown",
   "metadata": {},
   "source": [
    "### Load Data"
   ]
  },
  {
   "cell_type": "code",
   "execution_count": 8,
   "metadata": {},
   "outputs": [],
   "source": [
    "# Import Data\n",
    "dx = load('Quote_Order_Data')\n",
    "\n",
    "# Definitions:\n",
    "#   'quote_num' is a unique number assigned to every quote; more than one item can be included on a quote number\n",
    "#   'part' is the part name being quoted\n",
    "#   'div' is the company division for a geographical territory and who manufactures the part\n",
    "#   'dist_num' is a unique number assigned to the company distributors\n",
    "#   'so_name' is the sales office name requesting the quote\n",
    "#   'quote_qty' is the requested quote amount\n",
    "#   'sales_qty' is the quantity shipped on the 'ship_date'; there can be multiple shipments against a quote\n",
    "#   'quote_price' is the price first quoted; shipping prices can vary from competitive requirements\n",
    "#   'ship_date' are the dates of shipment\n",
    "#   'quote_date' is the date of the quote\n",
    "#   'Win' is whether or note quote closed: 1 = closed, 0 = lost\n",
    "#   'Quote_Yr' is year of quote issue\n",
    "#   'Quote_Mon' is month of year quote issued\n",
    "#   'Quote_Qtr' is quarter of year quote issued\n",
    "#   'Close_Date' is date quote expires 1 year after first shipment\n",
    "#   'Months_Used' is number of months passed in year to the quote closing date "
   ]
  },
  {
   "cell_type": "markdown",
   "metadata": {},
   "source": [
    "## Build Order Closed To Win Predictor\n",
    "#### Encode, scale and shape data for tensorflow\n",
    "#### Perform train test split"
   ]
  },
  {
   "cell_type": "code",
   "execution_count": 9,
   "metadata": {},
   "outputs": [],
   "source": [
    "# Choose categorical feature vars\n",
    "cat_vars = ['part', 'plant', 'dist', 'region']\n",
    "\n",
    "# Choose time features vars\n",
    "time_vars = ['Quote_Yr', 'Quote_Mon', 'Quote_Qtr']\n",
    "\n",
    "# Choose continuous feature vars\n",
    "cont_vars = ['quote_qty', 'quote_pr']\n",
    "\n",
    "# Choose continuous feature vars to be logged and then scaled\n",
    "cont_vars_log = ['quote_qty']\n",
    "\n",
    "# Choose target features\n",
    "targets = ['Win']\n",
    "\n",
    "# Identify data and target dataframes\n",
    "features = cat_vars + time_vars + cont_vars\n",
    "data = dx[cat_vars + time_vars + cont_vars]\n",
    "target = dx[targets]"
   ]
  },
  {
   "cell_type": "markdown",
   "metadata": {},
   "source": [
    "### Apply encoders, embeddings, max/min embeddings and scalers to feature data"
   ]
  },
  {
   "cell_type": "markdown",
   "metadata": {},
   "source": [
    "### Apply logs to feature variables with excesssive range"
   ]
  },
  {
   "cell_type": "code",
   "execution_count": 10,
   "metadata": {},
   "outputs": [],
   "source": [
    "#  Take log on continuous features to be logged to reduce range\n",
    "def log_cont_data(data, cont_vars_log=cont_vars_log):\n",
    "    \n",
    "    # take logs of each variable to be logged identified\n",
    "    for feat in cont_vars_log:\n",
    "        data[feat] = data[feat].apply(lambda x: np.log(x).astype(np.float32))\n",
    "    \n",
    "    # return data with logged columns\n",
    "    return data\n",
    "\n",
    "# insert logs into data\n",
    "data = log_cont_data(data)"
   ]
  },
  {
   "cell_type": "markdown",
   "metadata": {},
   "source": [
    "### Compute lists of embedding sizes as tuples of label encoders and scale continuous features"
   ]
  },
  {
   "cell_type": "code",
   "execution_count": 11,
   "metadata": {},
   "outputs": [],
   "source": [
    "# Function to apply embeddings for categorical features in data\n",
    "\n",
    "def cat_map_data(data,cat_vars=cat_vars, emax=50, emin=4):\n",
    "    # compute list of number of unique categories for each categorical variable\n",
    "    cat_emb = [len(data[c].unique()) for c in cat_vars]\n",
    "    \n",
    "    # compute list inserting maximum number of embeddings for each category \n",
    "    cat_emb_max = [c if c<= emax else emax for c in cat_emb] #maximum embedded weights is emax (default=50)\n",
    "    \n",
    "    # compute list inserting minimum number of embeddings for each category\n",
    "    cat_emb_max = [c if c>= emin else emin for c in cat_emb_max] #minimum embedded weights is emin (default = 4)\n",
    "    \n",
    "    # form dictionary of the categorical variables and the list of embeddings\n",
    "    cat_vars_dict = dict(zip(cat_vars,cat_emb_max))\n",
    "    \n",
    "    # form list of tuples of categorical variables and the label encoder\n",
    "    cat_map = [(c,LabelEncoder()) for c in cat_vars]\n",
    "    \n",
    "    # return the embedding dictionary and the map of label encoders to categorical variables\n",
    "    return cat_vars_dict,cat_map"
   ]
  },
  {
   "cell_type": "code",
   "execution_count": 12,
   "metadata": {},
   "outputs": [],
   "source": [
    "# Function to apply embeddings for time features in data\n",
    "\n",
    "def time_map_data(data,time_vars=time_vars, tmax=12, tmin=3):\n",
    "    \n",
    "    # compute number of unique values for each time variable\n",
    "    time_emb = [len(data[t].unique()) for t in time_vars]\n",
    "    \n",
    "    # insert maximum embedded coefficients for time variables\n",
    "    time_emb_max = [t if t <= tmax else tmax for t in time_emb] #maximum embedded weights is tmax (default=12)\n",
    "    \n",
    "    # insert minimum embedded coefficients for time variables\n",
    "    time_emb_max = [t if t >= tmin else tmin for t in time_emb_max]#minimum embedded weights is tmin (default=3)\n",
    "    time_vars_dict = dict(zip(time_vars,time_emb_max))\n",
    "    \n",
    "    # compute list of tuples assigning the Label Encoder to the time variable\n",
    "    time_map = [(t,LabelEncoder()) for t in time_vars]\n",
    "    \n",
    "    # return dictionary of embedded coefficients and list of encoder tuples\n",
    "    return time_vars_dict,time_map"
   ]
  },
  {
   "cell_type": "code",
   "execution_count": 13,
   "metadata": {},
   "outputs": [],
   "source": [
    "# Function to apply scaler on the continuous features in data\n",
    "\n",
    "# s can be standardscaler,robustscaler or minmaxscaler; default is minmax\n",
    "# x,y is limit on minmax; default to 0,1\n",
    "# l,u is percential rank for the robust scaler based on median; default is 10,90\n",
    "# note that the minmax scaler will remove negative entrys resulting from log function\n",
    "\n",
    "def cont_map_data(cont_vars=cont_vars, s='minmax', x=0, y=1, l=10, u=90): # s can be standardscaler,robustscaler or minmaxscaler\n",
    "    \n",
    "    # select scaler map and form list of tuples vor variable and scaler\n",
    "    if s == 'standard':\n",
    "        cont_map = [([c],StandardScaler(copy=True,with_mean=True,with_std=True)) for c in cont_vars]\n",
    "    \n",
    "    elif s == 'robust':\n",
    "        cont_map = [([c],RobustScaler(with_centering=True,with_scaling=True,quantile_range=(t,u))) for c in cont_vars]\n",
    "    \n",
    "    elif s == 'minmax':\n",
    "        cont_map = [([c],MinMaxScaler(feature_range = (x,y))) for c in cont_vars]\n",
    "    \n",
    "    # return map of scaler and continuous variables tuples\n",
    "    return cont_map"
   ]
  },
  {
   "cell_type": "markdown",
   "metadata": {},
   "source": [
    "### Transform feature variables and convert to array using DataFrameMapper"
   ]
  },
  {
   "cell_type": "code",
   "execution_count": 14,
   "metadata": {},
   "outputs": [],
   "source": [
    "# Encode categorical features amd fit - transform with DataFrameMapper\n",
    "def map_cat_data(data):\n",
    "    \n",
    "    # map encoder to categorical variables; cat_vars_dict required for input layers\n",
    "    cat_vars_dict,cat_map = cat_map_data(data)\n",
    "    \n",
    "    # initialize dataframe mapper\n",
    "    cat_mapper = DataFrameMapper(cat_map)\n",
    "    \n",
    "    # fit categorical variables; cat_map_fit required for input layer\n",
    "    cat_map_fit = cat_mapper.fit(data)\n",
    "    \n",
    "    # transform data using dataframe mapper\n",
    "    cat_data = cat_map_fit.transform(data).astype(np.int64) \n",
    "    \n",
    "    # return cat_vars_dict and cat_map_fit used in embedding input layer to tensorflow\n",
    "    return  cat_data, cat_vars_dict, cat_map_fit "
   ]
  },
  {
   "cell_type": "code",
   "execution_count": 15,
   "metadata": {},
   "outputs": [],
   "source": [
    "# Encode time features and fit - transform with DataFrameMapper    \n",
    "def map_time_data(data):    \n",
    "    \n",
    "    # map encoder to time variables; time_vars_dict used in embedding input layer to tensorflow\n",
    "    time_vars_dict,time_map = time_map_data(data)\n",
    "    \n",
    "    # initialize dataframemapper\n",
    "    time_mapper = DataFrameMapper(time_map)\n",
    "    \n",
    "    # fit time variables to data; time_map_fit req'd for input layers\n",
    "    time_map_fit = time_mapper.fit(data)\n",
    "    \n",
    "    # transform data\n",
    "    time_data = time_map_fit.transform(data).astype(np.int64)\n",
    "    \n",
    "    # return encoded time data, time_vars_dict and time_map_fit used in input layer\n",
    "    return time_data, time_vars_dict, time_map_fit "
   ]
  },
  {
   "cell_type": "code",
   "execution_count": 16,
   "metadata": {},
   "outputs": [],
   "source": [
    "# Scale continuous features and fit with DataFrameMapper\n",
    "def map_cont_data(data):\n",
    "    \n",
    "    # map scaler to continuous data;  cont_map_data defaults to data, cont_vars and minmax scaler, x = 0,y = 1\n",
    "    cont_map = cont_map_data() \n",
    "    \n",
    "    # intialize DataFrameMapper with scalers to be applied\n",
    "    cont_mapper = DataFrameMapper(cont_map)\n",
    "    \n",
    "    # fit mapper to data; cont_map_fit is required when building input layers\n",
    "    cont_map_fit = cont_mapper.fit(data)\n",
    "    \n",
    "    # transform and return data\n",
    "    cont_data = cont_map_fit.transform(data).astype(np.float32)\n",
    "    \n",
    "    return cont_data, cont_map_fit"
   ]
  },
  {
   "cell_type": "markdown",
   "metadata": {},
   "source": [
    "### Encode binary target\n",
    "#### Note that LabelEncoder will first order ascending numeric and then ascending alphabetical.  Consequently, the encoder will assign 0 to the lowest number and then sequence 1,2,3.. to the next higher numbers.  Check that the label encoder does not reverse the designed result."
   ]
  },
  {
   "cell_type": "code",
   "execution_count": 17,
   "metadata": {},
   "outputs": [],
   "source": [
    "# Function to encode and shape categorical target tensor\n",
    "def map_cat_target(target):   \n",
    "    #target is dataframe series of shape(-1,)    \n",
    "    \n",
    "    # map label array\n",
    "    y = np.array(target).reshape(-1,1)\n",
    "    encoder = LabelEncoder()\n",
    "    y_mapped = encoder.fit_transform(y)\n",
    "    \n",
    "    # shape y array\n",
    "    y_mapped = np.array(y_mapped).reshape(-1,1).astype(np.int64)#tensorflow requires int64 in array\n",
    "    return y_mapped"
   ]
  },
  {
   "cell_type": "markdown",
   "metadata": {},
   "source": [
    "### Compute transformed and shaped input data"
   ]
  },
  {
   "cell_type": "code",
   "execution_count": 18,
   "metadata": {},
   "outputs": [],
   "source": [
    "\n",
    "# Save input layer functions; cat_vars_dict and cat_map_fit\n",
    "# Map parts, division, sales_office, dist_num to encoded categories\n",
    "\n",
    "# scale and encode data\n",
    "data_cat, cat_vars_dict, cat_map_fit = map_cat_data(data)\n",
    "data_time, time_vars_dict, time_map_fit = map_time_data(data)\n",
    "data_cont, cont_map_fit = map_cont_data(data)\n",
    "\n",
    "# concatenate scaled and encoded data\n",
    "data_scaled = np.hstack([data_cat,data_time,data_cont])\n",
    "\n",
    "# scale or encode target data\n",
    "y_scaled = map_cat_target(target)"
   ]
  },
  {
   "cell_type": "markdown",
   "metadata": {},
   "source": [
    "### Build maps of categorical and time features and save encoded labels for prediction scheme\n",
    "### Scale and save scaler on continuous features for prediction scheme"
   ]
  },
  {
   "cell_type": "code",
   "execution_count": 19,
   "metadata": {},
   "outputs": [],
   "source": [
    "# Function to map the encoding to the categories and save in win_maps subdirectory\n",
    "# colname is in string format\n",
    "def encode_cat(data,data_cat,colname):\n",
    "    colnum = data.columns.get_loc(colname)\n",
    "    label_map = dict(zip(data[colname],data_cat[:,colnum]))\n",
    "    filename = os.path.join('win_maps',colname + '_cat_label_map')\n",
    "    dump(label_map,filename)\n",
    "    return colnum\n",
    "\n",
    "# Function to map the encoding to time features and save in win_maps subdirectory\n",
    "# colname is in string format\n",
    "def encode_time(data,data_time,colname,catnum):\n",
    "    colnum = data.columns.get_loc(colname)-(catnum + 1)\n",
    "    label_map = dict(zip(data[colname],data_time[:,colnum]))\n",
    "    filename = os.path.join('win_maps',colname + '_time_label_map')\n",
    "    dump(label_map,filename)\n",
    "    return\n",
    "\n",
    "# Function to calculate scalers on continuous features and save in win_maps subdirectory\n",
    "def scale_conts(data,colname,s):\n",
    "     # select scaler\n",
    "    if s == 'standard':\n",
    "        scaler = StandardScaler(copy=True, with_mean=True, with_std=True)\n",
    "    elif s == 'robust':\n",
    "        scaler = RobustScaler(with_centering=True,with_scaling=True,quantile_range=(10,90))\n",
    "    elif s == 'minmax':\n",
    "        scaler = MinMaxScaler(feature_range=(0,1))\n",
    "    \n",
    "    # fit scaler to column\n",
    "    scaled = scaler.fit(np.array(data[colname]).reshape(-1,1))\n",
    "    \n",
    "    # save scaler to win_maps subdirectory   \n",
    "    filename = os.path.join('win_maps',colname + '_cont_scaler')\n",
    "    dump(scaled,filename)\n",
    "    return\n",
    "    \n",
    "\n",
    "for colname in cat_vars:catnum=encode_cat(data,data_cat,colname)\n",
    "for colname in time_vars:encode_time(data,data_time,colname,catnum)\n",
    "for colname in cont_vars:scale_conts(data,colname,'minmax')\n"
   ]
  },
  {
   "cell_type": "markdown",
   "metadata": {},
   "source": [
    "### Split data into train, validate and test sets.  Shape into list of arrays for tensorflow."
   ]
  },
  {
   "cell_type": "code",
   "execution_count": 20,
   "metadata": {},
   "outputs": [],
   "source": [
    "# Apply stratified split twice on win target for validation and test\n",
    "# Note: splitting in tensorflow.keras.model.fit is not able to stratify by labels\n",
    "\n",
    "# first stratify and split for test data on stratify target 'y-scaled'\n",
    "data_,data_test,y_,y_test = train_test_split(data_scaled,y_scaled,test_size=.05,random_state=75,stratify=y_scaled)\n",
    "\n",
    "# resize target vector for second stratification for validation data\n",
    "temp = y_.reshape(-1,1)\n",
    "\n",
    "# second stratify and split for validation data on resized target data\n",
    "data_train,data_val,y_train,y_val = train_test_split(data_,y_,test_size=.20,random_state=75,stratify=temp)\n",
    "\n",
    "# Convert train and test input data to list of arrays for tensorflow\n",
    "X_train = np.hsplit(data_train, data_train.shape[1])\n",
    "X_val = np.hsplit(data_val, data_val.shape[1])\n",
    "X_test = np.hsplit(data_test, data_test.shape[1])\n",
    "X_all = np.hsplit(data_, data_.shape[1])\n",
    "\n",
    "# Convert y_train, y_val, y_test and y_all to reshaped vector arrays\n",
    "\n",
    "# win targets\n",
    "y_train = np.array(y_train).reshape(-1,1)\n",
    "y_val = np.array(y_val).reshape(-1,1)\n",
    "y_test =  np.array(y_test).reshape(-1,1)\n",
    "y_all = y_.reshape(-1,1)"
   ]
  },
  {
   "cell_type": "code",
   "execution_count": 21,
   "metadata": {},
   "outputs": [],
   "source": [
    "# Compute class weights for tensorflow fitting method\n",
    "\n",
    "# function to compute class_weights\n",
    "def binary_class_weights(target,multiplier=1.0):   #target is encoded binary labels\n",
    "    pos = target.sum()\n",
    "    neg = len(target) - pos\n",
    "    if neg > pos: \n",
    "        c1 = 1.0\n",
    "        c2 = np.float(round(math.ceil(neg/pos),2))*multiplier       \n",
    "        class_weight = {0:c1,1:c2}\n",
    "    \n",
    "    else:\n",
    "        c1 = 1.0\n",
    "        c2 = np.float(round(math.ceil(pos/neg),2))*multiplier\n",
    "        class_weight = {0:c2,1:c1}\n",
    "    \n",
    "    return class_weight\n",
    "\n",
    "# compute class_weights\n",
    "class_weight = binary_class_weights(y_scaled)\n"
   ]
  },
  {
   "cell_type": "markdown",
   "metadata": {},
   "source": [
    "## Build Quote to Order ('Win') Predictor Model\n",
    "### Plot model"
   ]
  },
  {
   "cell_type": "code",
   "execution_count": 22,
   "metadata": {},
   "outputs": [],
   "source": [
    "# Import required libraries\n",
    "\n",
    "import tensorflow as tf\n",
    "from tensorflow import keras\n",
    "from tensorflow.keras.layers import Dense, Dropout, BatchNormalization, Embedding, Flatten, concatenate, Input\n",
    "from tensorflow.keras.models import Model, save_model, load_model\n",
    "from tensorflow.keras.callbacks import EarlyStopping, ReduceLROnPlateau, ModelCheckpoint\n",
    "from tensorflow.keras.utils import plot_model\n",
    "from tensorflow.keras import backend as K\n",
    "from sklearn.metrics import classification_report,confusion_matrix\n",
    "from tensorflow.keras.constraints import max_norm, unit_norm\n",
    "from tensorflow.keras.metrics import Precision, Recall, binary_accuracy, AUC\n",
    "from tensorflow.keras.losses import BinaryCrossentropy"
   ]
  },
  {
   "cell_type": "code",
   "execution_count": 23,
   "metadata": {},
   "outputs": [],
   "source": [
    "# Graph categorical features input layers\n",
    "# Initialize with Xavier by calling 'glorot_normal' to minimize vanishing/exploding gradients\n",
    "# Apply batch normalization for both regularization and controlling gradients\n",
    "# Apply dropout to control overfitting\n",
    "\n",
    "# this builds input layer and subsequent layers in linear (not interconnected) configuration\n",
    "def cat_input(feat,cat_vars_dict):\n",
    "    # compute input vector\n",
    "    name = feat[0]\n",
    "    c1 = len(feat[1].classes_)\n",
    "    c2 = cat_vars_dict[name]\n",
    "    # set dropout rate\n",
    "    r = .5\n",
    "    # create input layer\n",
    "    inp = Input(shape=(1,),dtype='int64',name=name + '_in')\n",
    "    cat = Flatten(name=name+'_flt')(Embedding(c1,c2,input_length=1)(inp))\n",
    "    cat = Dense(1000, activation='relu',kernel_initializer='glorot_normal',bias_initializer='normal')(cat)\n",
    "    cat = Dropout(rate=r)(cat)\n",
    "    cat = BatchNormalization()(cat)\n",
    "    cat = Dense(500, activation='relu',kernel_initializer='glorot_normal',bias_initializer='normal')(cat)\n",
    "    cat = Dropout(rate=r)(cat)\n",
    "    cat = BatchNormalization()(cat)\n",
    "    return inp,cat\n",
    "\n",
    "# Graph categorical features input\n",
    "cats = [cat_input(feat,cat_vars_dict) for feat in cat_map_fit.features]"
   ]
  },
  {
   "cell_type": "code",
   "execution_count": 24,
   "metadata": {},
   "outputs": [],
   "source": [
    "# Graph time input layers\n",
    "# Initialize with Xavier by calling 'glorot_normal' to minimize vanishing/exploding gradients\n",
    "# Apply batch normalization for both regularization and controlling gradients\n",
    "# Apply dropout to control overfitting\n",
    "\n",
    "# this builds time input layers followed by linear layers (not interconnected) for the time variable (not interconnected)\n",
    "def time_input(feat,time_vars_dict):\n",
    "    # compute input vector\n",
    "    name = feat[0]\n",
    "    c1 = len(feat[1].classes_)\n",
    "    c2 = time_vars_dict[name]\n",
    "    #set dropout rate\n",
    "    r = .5\n",
    "    # create input layer\n",
    "    inp = Input(shape=(1,),dtype='int64',name=name + '_in')\n",
    "    time = Flatten(name=name+'_flt')(Embedding(c1,c2,input_length=1)(inp))\n",
    "    time = Dense(1000, activation='relu',kernel_initializer='glorot_normal',bias_initializer='normal')(time)\n",
    "    time = Dropout(rate=r)(time)\n",
    "    time = BatchNormalization()(time)\n",
    "    time = Dense(500, activation='relu',kernel_initializer='glorot_normal',bias_initializer='normal')(time)\n",
    "    time = Dropout(rate=r)(time)\n",
    "    time = BatchNormalization()(time)\n",
    "    return inp,time\n",
    "\n",
    "# Graph time features input\n",
    "times = [time_input(feat,time_vars_dict) for feat in time_map_fit.features]"
   ]
  },
  {
   "cell_type": "code",
   "execution_count": 25,
   "metadata": {},
   "outputs": [],
   "source": [
    "# Graph input layers for continuous features\n",
    "# Initialize with Xavier by calling 'glorot_normal' to minimize vanishing/exploding gradients\n",
    "# Apply batch normalization for both regularization and controlling gradients\n",
    "# Apply dropout to control overfitting\n",
    "\n",
    "# this builds input layer for continuous features and subsequent layers in linear configuration (not interconnected)\n",
    "def cont_input(feat):\n",
    "    name = feat[0][0]\n",
    "    inp = Input((1,), name=name+'_in')\n",
    "    cont = Dense(1, name = name + '_d')(inp)\n",
    "    # set dropout rate\n",
    "    r = .5\n",
    "    cont = Dense(1000, activation='relu',kernel_initializer='glorot_normal',bias_initializer='normal')(cont)\n",
    "    cont = Dropout(rate=r)(cont)\n",
    "    cont = BatchNormalization()(cont)\n",
    "    cont = Dense(500, activation='relu',kernel_initializer='glorot_normal',bias_initializer='normal')(cont)\n",
    "    cont = Dropout(rate=r)(cont)\n",
    "    cont = BatchNormalization()(cont)\n",
    "    return inp,cont\n",
    "\n",
    "# Graph continuous features input\n",
    "conts = [cont_input(feat) for feat in cont_map_fit.features]"
   ]
  },
  {
   "cell_type": "code",
   "execution_count": 26,
   "metadata": {},
   "outputs": [],
   "source": [
    "def build_order_model(cats,times,conts,r=.5):\n",
    "    \n",
    "    # Build graph for categorical features such that all categorical features are interconnected\n",
    "    c = concatenate([cat for inp,cat in cats])\n",
    "\n",
    "    # add linear layers\n",
    "    c = Dense(500, activation='relu',kernel_initializer='glorot_normal',bias_initializer='normal')(c)\n",
    "    c = Dropout(rate=r)(c)\n",
    "    c = BatchNormalization()(c)\n",
    "    c = Dense(500, activation='relu',kernel_initializer='glorot_normal',bias_initializer='normal')(c)\n",
    "    c = Dropout(rate=r)(c)\n",
    "    c = BatchNormalization()(c)\n",
    "    \n",
    "    # Build graph for time features such that all time features are interconnected\n",
    "    t = concatenate([time for inp,time in times])\n",
    "    \n",
    "    # add linear layers\n",
    "    t = Dense(500, activation='relu',kernel_initializer='glorot_normal',bias_initializer='normal')(t)\n",
    "    t = Dropout(rate=r)(t)\n",
    "    t = BatchNormalization()(t)\n",
    "    t = Dense(500, activation='relu',kernel_initializer='glorot_normal',bias_initializer='normal')(t)\n",
    "    t = Dropout(rate=r)(t)\n",
    "    t = BatchNormalization()(t)\n",
    "\n",
    "    \n",
    "    # Build graph for continuous features such that all continuous features are interconnected\n",
    "    f = concatenate([cont for inp,cont in conts])\n",
    "    \n",
    "    # add linear layers\n",
    "    f = Dense(500, activation='relu',kernel_initializer='glorot_normal',bias_initializer='normal')(f)\n",
    "    f = Dropout(rate=r)(f)\n",
    "    f = BatchNormalization()(f)\n",
    "    f = Dense(500, activation='relu',kernel_initializer='glorot_normal',bias_initializer='normal')(f)\n",
    "    f = Dropout(rate=r)(f)\n",
    "    f = BatchNormalization()(f)\n",
    "\n",
    "    \n",
    "    # Concatenate categorical, time and continuous features such that all features are interconnected\n",
    "    x = concatenate([c,t,f])\n",
    "    \n",
    "    # add linear layers\n",
    "    x = Dense(500,activation='relu',kernel_initializer='glorot_normal',bias_initializer='normal')(x)\n",
    "    x = Dropout(rate=r)(x)\n",
    "    x = BatchNormalization()(x)\n",
    "    x = Dense(500,activation='relu',kernel_initializer='glorot_normal',bias_initializer='normal')(x)\n",
    "    x = Dropout(rate=r)(x)\n",
    "    x = BatchNormalization()(x)\n",
    "    x = Dense(500,activation='relu',kernel_initializer='glorot_normal',bias_initializer='normal')(x)    \n",
    "    x = Dropout(rate=r)(x)\n",
    "    x = BatchNormalization()(x)\n",
    "    x = Dense(1, activation='sigmoid',kernel_initializer='glorot_normal',bias_initializer='normal')(x) \n",
    "    \n",
    "    # set input layer and compile\n",
    "    model = Model([inp for inp,cat in cats] + [inp for inp,time in times] + [inp for inp,cont in conts], x)\n",
    "    model.compile(optimizer='Adam',loss=BinaryCrossentropy(from_logits = True),metrics=['binary_accuracy','Precision','Recall','AUC'])\n",
    "    return model\n",
    "\n"
   ]
  },
  {
   "cell_type": "code",
   "execution_count": 27,
   "metadata": {},
   "outputs": [],
   "source": [
    "order_model = build_order_model(cats,times,conts)"
   ]
  },
  {
   "cell_type": "code",
   "execution_count": 28,
   "metadata": {},
   "outputs": [],
   "source": [
    "# Save a text copy of quantity_model summary\n",
    "#filename = os.path.join('quantity_maps','quantity_model_')\n",
    "#with open(filename + 'report.txt','w') as fh:\n",
    "    # Pass the file handle in as a lambda function to make it callable\n",
    "#    quantity_model.summary(print_fn=lambda x: fh.write(x + '\\n'))"
   ]
  },
  {
   "cell_type": "code",
   "execution_count": 29,
   "metadata": {},
   "outputs": [],
   "source": [
    "# Plot and save quantity model\n",
    "#filename = os.path.join('quantity_maps','quantity_model.png')\n",
    "#plot_model(quantity_model, filename, show_shapes=True)"
   ]
  },
  {
   "cell_type": "code",
   "execution_count": 30,
   "metadata": {},
   "outputs": [],
   "source": [
    "# Initialize callbacks\n",
    "# both earlystopping and modelcheckpoint save the best model to be stored\n",
    "\n",
    "es = EarlyStopping(monitor='val_loss', patience=5, verbose=0,\n",
    "    mode='auto', min_delta=.005, restore_best_weights=True)\n",
    "\n",
    "rlr = ReduceLROnPlateau(monitor='val_loss', factor=0.9,\n",
    "                              mode = 'min', min_delta=.005, patience=3, min_lr=0.0001)\n",
    "\n",
    "filepath = 'win_checkpoint'\n",
    "mckp = ModelCheckpoint(filepath=filepath, monitor='val_loss', verbose=0, save_best_only=True,\n",
    "    save_weights_only=True, mode='auto', save_freq='epoch')"
   ]
  },
  {
   "cell_type": "code",
   "execution_count": 31,
   "metadata": {},
   "outputs": [
    {
     "name": "stdout",
     "output_type": "stream",
     "text": [
      "Train on 12771 samples, validate on 3193 samples\n",
      "Epoch 1/20\n",
      "12771/12771 [==============================] - 46s 4ms/sample - loss: 1.0133 - binary_accuracy: 0.6741 - Precision: 0.4675 - Recall: 0.6395 - AUC: 0.7495 - val_loss: 1.2004 - val_binary_accuracy: 0.2994 - val_Precision: 0.2994 - val_Recall: 1.0000 - val_AUC: 0.5125\n",
      "Epoch 2/20\n",
      "12771/12771 [==============================] - 31s 2ms/sample - loss: 0.8966 - binary_accuracy: 0.8551 - Precision: 0.7657 - Recall: 0.7431 - AUC: 0.8490 - val_loss: 1.1966 - val_binary_accuracy: 0.3019 - val_Precision: 0.3002 - val_Recall: 1.0000 - val_AUC: 0.6840\n",
      "Epoch 3/20\n",
      "12771/12771 [==============================] - 37s 3ms/sample - loss: 0.8944 - binary_accuracy: 0.8595 - Precision: 0.7807 - Recall: 0.7378 - AUC: 0.8482 - val_loss: 0.8981 - val_binary_accuracy: 0.8202 - val_Precision: 0.6490 - val_Recall: 0.8703 - val_AUC: 0.8796\n",
      "Epoch 4/20\n",
      "12771/12771 [==============================] - 35s 3ms/sample - loss: 0.8946 - binary_accuracy: 0.8565 - Precision: 0.7701 - Recall: 0.7423 - AUC: 0.8550 - val_loss: 0.8986 - val_binary_accuracy: 0.8553 - val_Precision: 0.7744 - val_Recall: 0.7291 - val_AUC: 0.8321\n",
      "Epoch 5/20\n",
      "12771/12771 [==============================] - 37s 3ms/sample - loss: 0.8927 - binary_accuracy: 0.8650 - Precision: 0.8032 - Recall: 0.7271 - AUC: 0.8453 - val_loss: 0.8923 - val_binary_accuracy: 0.8591 - val_Precision: 0.7762 - val_Recall: 0.7437 - val_AUC: 0.8712\n",
      "Epoch 6/20\n",
      "12771/12771 [==============================] - 41s 3ms/sample - loss: 0.8905 - binary_accuracy: 0.8584 - Precision: 0.7635 - Recall: 0.7635 - AUC: 0.8565 - val_loss: 0.8925 - val_binary_accuracy: 0.8381 - val_Precision: 0.6910 - val_Recall: 0.8305 - val_AUC: 0.8618\n",
      "Epoch 7/20\n",
      "12771/12771 [==============================] - 39s 3ms/sample - loss: 0.8914 - binary_accuracy: 0.8584 - Precision: 0.7692 - Recall: 0.7525 - AUC: 0.8571 - val_loss: 0.9088 - val_binary_accuracy: 0.7899 - val_Precision: 0.5994 - val_Recall: 0.8985 - val_AUC: 0.8687\n",
      "Epoch 8/20\n",
      "12771/12771 [==============================] - 40s 3ms/sample - loss: 0.8900 - binary_accuracy: 0.8642 - Precision: 0.7919 - Recall: 0.7410 - AUC: 0.8564 - val_loss: 0.8865 - val_binary_accuracy: 0.8497 - val_Precision: 0.7196 - val_Recall: 0.8159 - val_AUC: 0.8828\n",
      "Epoch 9/20\n",
      "12771/12771 [==============================] - 39s 3ms/sample - loss: 0.8847 - binary_accuracy: 0.8598 - Precision: 0.7501 - Recall: 0.7970 - AUC: 0.8755 - val_loss: 0.8900 - val_binary_accuracy: 0.8437 - val_Precision: 0.7068 - val_Recall: 0.8169 - val_AUC: 0.8690\n",
      "Epoch 10/20\n",
      "12771/12771 [==============================] - 45s 4ms/sample - loss: 0.8861 - binary_accuracy: 0.8609 - Precision: 0.7605 - Recall: 0.7810 - AUC: 0.8723 - val_loss: 0.8827 - val_binary_accuracy: 0.8685 - val_Precision: 0.7827 - val_Recall: 0.7762 - val_AUC: 0.8645\n",
      "Epoch 11/20\n",
      "12771/12771 [==============================] - 46s 4ms/sample - loss: 0.8850 - binary_accuracy: 0.8645 - Precision: 0.7743 - Recall: 0.7721 - AUC: 0.8645 - val_loss: 0.8999 - val_binary_accuracy: 0.8105 - val_Precision: 0.6317 - val_Recall: 0.8808 - val_AUC: 0.8589\n",
      "Epoch 12/20\n",
      "12771/12771 [==============================] - 47s 4ms/sample - loss: 0.8818 - binary_accuracy: 0.8652 - Precision: 0.7652 - Recall: 0.7930 - AUC: 0.8733 - val_loss: 0.8838 - val_binary_accuracy: 0.8562 - val_Precision: 0.7347 - val_Recall: 0.8138 - val_AUC: 0.8702\n",
      "Epoch 13/20\n",
      "12771/12771 [==============================] - 46s 4ms/sample - loss: 0.8801 - binary_accuracy: 0.8667 - Precision: 0.7650 - Recall: 0.8006 - AUC: 0.8817 - val_loss: 0.8836 - val_binary_accuracy: 0.8572 - val_Precision: 0.7376 - val_Recall: 0.8117 - val_AUC: 0.8748\n"
     ]
    },
    {
     "data": {
      "text/plain": [
       "<tensorflow.python.keras.callbacks.History at 0x7feeecef2f50>"
      ]
     },
     "execution_count": 31,
     "metadata": {},
     "output_type": "execute_result"
    }
   ],
   "source": [
    "# Train the model using early stopping and reducing learning rates to reduce overfitting and 'memorization'.\n",
    "\n",
    "order_model.fit(X_train,y_train,\n",
    "            batch_size=64,\n",
    "            epochs=20,\n",
    "            verbose=True,\n",
    "            validation_data = (X_val, y_val), \n",
    "            class_weight=class_weight,\n",
    "            callbacks=[es,rlr,mckp])"
   ]
  },
  {
   "cell_type": "markdown",
   "metadata": {},
   "source": [
    "#### Display convergence of metrics"
   ]
  },
  {
   "cell_type": "code",
   "execution_count": 32,
   "metadata": {},
   "outputs": [
    {
     "data": {
      "text/html": [
       "<div>\n",
       "<style scoped>\n",
       "    .dataframe tbody tr th:only-of-type {\n",
       "        vertical-align: middle;\n",
       "    }\n",
       "\n",
       "    .dataframe tbody tr th {\n",
       "        vertical-align: top;\n",
       "    }\n",
       "\n",
       "    .dataframe thead th {\n",
       "        text-align: right;\n",
       "    }\n",
       "</style>\n",
       "<table border=\"1\" class=\"dataframe\">\n",
       "  <thead>\n",
       "    <tr style=\"text-align: right;\">\n",
       "      <th></th>\n",
       "      <th>loss</th>\n",
       "      <th>binary_accuracy</th>\n",
       "      <th>Precision</th>\n",
       "      <th>Recall</th>\n",
       "      <th>AUC</th>\n",
       "      <th>val_loss</th>\n",
       "      <th>val_binary_accuracy</th>\n",
       "      <th>val_Precision</th>\n",
       "      <th>val_Recall</th>\n",
       "      <th>val_AUC</th>\n",
       "      <th>lr</th>\n",
       "    </tr>\n",
       "  </thead>\n",
       "  <tbody>\n",
       "    <tr>\n",
       "      <th>0</th>\n",
       "      <td>1.013294</td>\n",
       "      <td>0.674105</td>\n",
       "      <td>0.467483</td>\n",
       "      <td>0.639456</td>\n",
       "      <td>0.749481</td>\n",
       "      <td>1.200355</td>\n",
       "      <td>0.299405</td>\n",
       "      <td>0.299405</td>\n",
       "      <td>1.000000</td>\n",
       "      <td>0.512517</td>\n",
       "      <td>0.0010</td>\n",
       "    </tr>\n",
       "    <tr>\n",
       "      <th>1</th>\n",
       "      <td>0.896589</td>\n",
       "      <td>0.855062</td>\n",
       "      <td>0.765705</td>\n",
       "      <td>0.743066</td>\n",
       "      <td>0.848965</td>\n",
       "      <td>1.196551</td>\n",
       "      <td>0.301910</td>\n",
       "      <td>0.300157</td>\n",
       "      <td>1.000000</td>\n",
       "      <td>0.683952</td>\n",
       "      <td>0.0010</td>\n",
       "    </tr>\n",
       "    <tr>\n",
       "      <th>2</th>\n",
       "      <td>0.894358</td>\n",
       "      <td>0.859526</td>\n",
       "      <td>0.780731</td>\n",
       "      <td>0.737834</td>\n",
       "      <td>0.848163</td>\n",
       "      <td>0.898149</td>\n",
       "      <td>0.820232</td>\n",
       "      <td>0.648986</td>\n",
       "      <td>0.870293</td>\n",
       "      <td>0.879643</td>\n",
       "      <td>0.0010</td>\n",
       "    </tr>\n",
       "    <tr>\n",
       "      <th>3</th>\n",
       "      <td>0.894640</td>\n",
       "      <td>0.856550</td>\n",
       "      <td>0.770087</td>\n",
       "      <td>0.742282</td>\n",
       "      <td>0.854999</td>\n",
       "      <td>0.898636</td>\n",
       "      <td>0.855308</td>\n",
       "      <td>0.774444</td>\n",
       "      <td>0.729079</td>\n",
       "      <td>0.832093</td>\n",
       "      <td>0.0010</td>\n",
       "    </tr>\n",
       "    <tr>\n",
       "      <th>4</th>\n",
       "      <td>0.892720</td>\n",
       "      <td>0.865007</td>\n",
       "      <td>0.803179</td>\n",
       "      <td>0.727106</td>\n",
       "      <td>0.845280</td>\n",
       "      <td>0.892346</td>\n",
       "      <td>0.859067</td>\n",
       "      <td>0.776201</td>\n",
       "      <td>0.743724</td>\n",
       "      <td>0.871150</td>\n",
       "      <td>0.0010</td>\n",
       "    </tr>\n",
       "    <tr>\n",
       "      <th>5</th>\n",
       "      <td>0.890488</td>\n",
       "      <td>0.858429</td>\n",
       "      <td>0.763475</td>\n",
       "      <td>0.763475</td>\n",
       "      <td>0.856499</td>\n",
       "      <td>0.892530</td>\n",
       "      <td>0.838083</td>\n",
       "      <td>0.691036</td>\n",
       "      <td>0.830544</td>\n",
       "      <td>0.861754</td>\n",
       "      <td>0.0010</td>\n",
       "    </tr>\n",
       "    <tr>\n",
       "      <th>6</th>\n",
       "      <td>0.891353</td>\n",
       "      <td>0.858351</td>\n",
       "      <td>0.769190</td>\n",
       "      <td>0.752486</td>\n",
       "      <td>0.857069</td>\n",
       "      <td>0.908807</td>\n",
       "      <td>0.789853</td>\n",
       "      <td>0.599442</td>\n",
       "      <td>0.898536</td>\n",
       "      <td>0.868712</td>\n",
       "      <td>0.0010</td>\n",
       "    </tr>\n",
       "    <tr>\n",
       "      <th>7</th>\n",
       "      <td>0.890009</td>\n",
       "      <td>0.864224</td>\n",
       "      <td>0.791946</td>\n",
       "      <td>0.740973</td>\n",
       "      <td>0.856384</td>\n",
       "      <td>0.886451</td>\n",
       "      <td>0.849671</td>\n",
       "      <td>0.719557</td>\n",
       "      <td>0.815900</td>\n",
       "      <td>0.882762</td>\n",
       "      <td>0.0010</td>\n",
       "    </tr>\n",
       "    <tr>\n",
       "      <th>8</th>\n",
       "      <td>0.884678</td>\n",
       "      <td>0.859760</td>\n",
       "      <td>0.750062</td>\n",
       "      <td>0.796965</td>\n",
       "      <td>0.875469</td>\n",
       "      <td>0.889969</td>\n",
       "      <td>0.843721</td>\n",
       "      <td>0.706787</td>\n",
       "      <td>0.816946</td>\n",
       "      <td>0.869017</td>\n",
       "      <td>0.0010</td>\n",
       "    </tr>\n",
       "    <tr>\n",
       "      <th>9</th>\n",
       "      <td>0.886090</td>\n",
       "      <td>0.860857</td>\n",
       "      <td>0.760510</td>\n",
       "      <td>0.781005</td>\n",
       "      <td>0.872300</td>\n",
       "      <td>0.882748</td>\n",
       "      <td>0.868462</td>\n",
       "      <td>0.782700</td>\n",
       "      <td>0.776151</td>\n",
       "      <td>0.864506</td>\n",
       "      <td>0.0010</td>\n",
       "    </tr>\n",
       "    <tr>\n",
       "      <th>10</th>\n",
       "      <td>0.884982</td>\n",
       "      <td>0.864459</td>\n",
       "      <td>0.774337</td>\n",
       "      <td>0.772109</td>\n",
       "      <td>0.864498</td>\n",
       "      <td>0.899860</td>\n",
       "      <td>0.810523</td>\n",
       "      <td>0.631658</td>\n",
       "      <td>0.880753</td>\n",
       "      <td>0.858923</td>\n",
       "      <td>0.0010</td>\n",
       "    </tr>\n",
       "    <tr>\n",
       "      <th>11</th>\n",
       "      <td>0.881810</td>\n",
       "      <td>0.865242</td>\n",
       "      <td>0.765211</td>\n",
       "      <td>0.793040</td>\n",
       "      <td>0.873259</td>\n",
       "      <td>0.883757</td>\n",
       "      <td>0.856248</td>\n",
       "      <td>0.734655</td>\n",
       "      <td>0.813808</td>\n",
       "      <td>0.870207</td>\n",
       "      <td>0.0009</td>\n",
       "    </tr>\n",
       "    <tr>\n",
       "      <th>12</th>\n",
       "      <td>0.880062</td>\n",
       "      <td>0.866729</td>\n",
       "      <td>0.765000</td>\n",
       "      <td>0.800628</td>\n",
       "      <td>0.881696</td>\n",
       "      <td>0.883600</td>\n",
       "      <td>0.857188</td>\n",
       "      <td>0.737643</td>\n",
       "      <td>0.811715</td>\n",
       "      <td>0.874848</td>\n",
       "      <td>0.0009</td>\n",
       "    </tr>\n",
       "  </tbody>\n",
       "</table>\n",
       "</div>"
      ],
      "text/plain": [
       "        loss  binary_accuracy  Precision    Recall       AUC  val_loss  \\\n",
       "0   1.013294         0.674105   0.467483  0.639456  0.749481  1.200355   \n",
       "1   0.896589         0.855062   0.765705  0.743066  0.848965  1.196551   \n",
       "2   0.894358         0.859526   0.780731  0.737834  0.848163  0.898149   \n",
       "3   0.894640         0.856550   0.770087  0.742282  0.854999  0.898636   \n",
       "4   0.892720         0.865007   0.803179  0.727106  0.845280  0.892346   \n",
       "5   0.890488         0.858429   0.763475  0.763475  0.856499  0.892530   \n",
       "6   0.891353         0.858351   0.769190  0.752486  0.857069  0.908807   \n",
       "7   0.890009         0.864224   0.791946  0.740973  0.856384  0.886451   \n",
       "8   0.884678         0.859760   0.750062  0.796965  0.875469  0.889969   \n",
       "9   0.886090         0.860857   0.760510  0.781005  0.872300  0.882748   \n",
       "10  0.884982         0.864459   0.774337  0.772109  0.864498  0.899860   \n",
       "11  0.881810         0.865242   0.765211  0.793040  0.873259  0.883757   \n",
       "12  0.880062         0.866729   0.765000  0.800628  0.881696  0.883600   \n",
       "\n",
       "    val_binary_accuracy  val_Precision  val_Recall   val_AUC      lr  \n",
       "0              0.299405       0.299405    1.000000  0.512517  0.0010  \n",
       "1              0.301910       0.300157    1.000000  0.683952  0.0010  \n",
       "2              0.820232       0.648986    0.870293  0.879643  0.0010  \n",
       "3              0.855308       0.774444    0.729079  0.832093  0.0010  \n",
       "4              0.859067       0.776201    0.743724  0.871150  0.0010  \n",
       "5              0.838083       0.691036    0.830544  0.861754  0.0010  \n",
       "6              0.789853       0.599442    0.898536  0.868712  0.0010  \n",
       "7              0.849671       0.719557    0.815900  0.882762  0.0010  \n",
       "8              0.843721       0.706787    0.816946  0.869017  0.0010  \n",
       "9              0.868462       0.782700    0.776151  0.864506  0.0010  \n",
       "10             0.810523       0.631658    0.880753  0.858923  0.0010  \n",
       "11             0.856248       0.734655    0.813808  0.870207  0.0009  \n",
       "12             0.857188       0.737643    0.811715  0.874848  0.0009  "
      ]
     },
     "execution_count": 32,
     "metadata": {},
     "output_type": "execute_result"
    },
    {
     "data": {
      "text/plain": [
       "<matplotlib.axes._subplots.AxesSubplot at 0x7feec8773690>"
      ]
     },
     "execution_count": 32,
     "metadata": {},
     "output_type": "execute_result"
    },
    {
     "data": {
      "text/plain": [
       "<matplotlib.axes._subplots.AxesSubplot at 0x7feeca95c050>"
      ]
     },
     "execution_count": 32,
     "metadata": {},
     "output_type": "execute_result"
    },
    {
     "data": {
      "text/plain": [
       "<matplotlib.axes._subplots.AxesSubplot at 0x7feeca919390>"
      ]
     },
     "execution_count": 32,
     "metadata": {},
     "output_type": "execute_result"
    },
    {
     "data": {
      "text/plain": [
       "<matplotlib.axes._subplots.AxesSubplot at 0x7feeca889ed0>"
      ]
     },
     "execution_count": 32,
     "metadata": {},
     "output_type": "execute_result"
    },
    {
     "data": {
      "text/plain": [
       "<matplotlib.axes._subplots.AxesSubplot at 0x7feeca847950>"
      ]
     },
     "execution_count": 32,
     "metadata": {},
     "output_type": "execute_result"
    },
    {
     "data": {
      "image/png": "[encoded data removed]",
      "text/plain": [
       "<Figure size 432x288 with 1 Axes>"
      ]
     },
     "metadata": {
      "needs_background": "light"
     },
     "output_type": "display_data"
    },
    {
     "data": {
      "image/png": "[encoded data removed]",
      "text/plain": [
       "<Figure size 432x288 with 1 Axes>"
      ]
     },
     "metadata": {
      "needs_background": "light"
     },
     "output_type": "display_data"
    },
    {
     "data": {
      "image/png": "[encoded data removed]",
      "text/plain": [
       "<Figure size 432x288 with 1 Axes>"
      ]
     },
     "metadata": {
      "needs_background": "light"
     },
     "output_type": "display_data"
    },
    {
     "data": {
      "image/png": "[encoded data removed]",
      "text/plain": [
       "<Figure size 432x288 with 1 Axes>"
      ]
     },
     "metadata": {
      "needs_background": "light"
     },
     "output_type": "display_data"
    },
    {
     "data": {
      "image/png": "[encoded data removed]",
      "text/plain": [
       "<Figure size 432x288 with 1 Axes>"
      ]
     },
     "metadata": {
      "needs_background": "light"
     },
     "output_type": "display_data"
    }
   ],
   "source": [
    "dh = pd.DataFrame(data=order_model.history.history)\n",
    "dh\n",
    "dh[['loss','val_loss']].plot()\n",
    "dh[['Precision','val_Precision']].plot()\n",
    "dh[['Recall','val_Recall']].plot()\n",
    "dh[['binary_accuracy', 'val_binary_accuracy']].plot()\n",
    "dh[['AUC','val_AUC']].plot()"
   ]
  },
  {
   "cell_type": "markdown",
   "metadata": {},
   "source": [
    "#### Display classification and confusion matrices"
   ]
  },
  {
   "cell_type": "code",
   "execution_count": 33,
   "metadata": {},
   "outputs": [
    {
     "name": "stdout",
     "output_type": "stream",
     "text": [
      "Training Set Confusion Matrix\n",
      "[[1933  304]\n",
      " [ 176  780]]\n",
      "Training Set Classification Report\n",
      "              precision    recall  f1-score   support\n",
      "\n",
      "           0       0.92      0.86      0.89      2237\n",
      "           1       0.72      0.82      0.76       956\n",
      "\n",
      "    accuracy                           0.85      3193\n",
      "   macro avg       0.82      0.84      0.83      3193\n",
      "weighted avg       0.86      0.85      0.85      3193\n",
      "\n"
     ]
    }
   ],
   "source": [
    "# Performance on the validation set\n",
    "\n",
    "predicted = order_model.predict(X_val)\n",
    "predictions = np.rint(predicted)\n",
    "print('Training Set Confusion Matrix')\n",
    "print(confusion_matrix(y_val,predictions))\n",
    "print('Training Set Classification Report')\n",
    "print(classification_report(y_val,predictions))"
   ]
  },
  {
   "cell_type": "code",
   "execution_count": 34,
   "metadata": {},
   "outputs": [
    {
     "name": "stdout",
     "output_type": "stream",
     "text": [
      "Test Set Confusion Matrix\n",
      "[[512  77]\n",
      " [ 37 215]]\n",
      "Test Set Classification Report\n",
      "              precision    recall  f1-score   support\n",
      "\n",
      "           0       0.93      0.87      0.90       589\n",
      "           1       0.74      0.85      0.79       252\n",
      "\n",
      "    accuracy                           0.86       841\n",
      "   macro avg       0.83      0.86      0.85       841\n",
      "weighted avg       0.87      0.86      0.87       841\n",
      "\n"
     ]
    }
   ],
   "source": [
    "# Performance on the Test set\n",
    "\n",
    "predicted = order_model.predict(X_test)\n",
    "predictions = np.rint(predicted)\n",
    "print('Test Set Confusion Matrix')\n",
    "print(confusion_matrix(y_test,predictions))\n",
    "print('Test Set Classification Report')\n",
    "print(classification_report(y_test,predictions))"
   ]
  },
  {
   "cell_type": "code",
   "execution_count": 35,
   "metadata": {},
   "outputs": [
    {
     "name": "stdout",
     "output_type": "stream",
     "text": [
      "WARNING:tensorflow:From /home/dennis/anaconda3/envs/tf/lib/python3.7/site-packages/tensorflow_core/python/ops/resource_variable_ops.py:1781: calling BaseResourceVariable.__init__ (from tensorflow.python.ops.resource_variable_ops) with constraint is deprecated and will be removed in a future version.\n",
      "Instructions for updating:\n",
      "If using Keras pass *_constraint arguments to layers.\n",
      "INFO:tensorflow:Assets written to: win_val_model/assets\n"
     ]
    }
   ],
   "source": [
    "filepath = 'win_val_model'\n",
    "save_model(order_model, filepath, overwrite=True, include_optimizer=True, save_format=None,\n",
    "    signatures=None, options=None)"
   ]
  },
  {
   "cell_type": "markdown",
   "metadata": {},
   "source": [
    "### The important comparison is between the training set and the test set.  Both the confusion matrix and the classification report are nearly identical for both data sets meaning that the model will generalize to new data well."
   ]
  },
  {
   "cell_type": "code",
   "execution_count": 36,
   "metadata": {},
   "outputs": [],
   "source": [
    "from tensorflow.keras.backend import clear_session\n",
    "clear_session()"
   ]
  },
  {
   "cell_type": "code",
   "execution_count": 37,
   "metadata": {},
   "outputs": [],
   "source": [
    "# Train the predictor using all of the data set except the reserved test set for final evaluation\n",
    "\n",
    "# set the number of epochs from validation set model using early stopping\n",
    "\n",
    "e = dh.val_loss.min()\n",
    "e = dh.index[dh['val_loss']== e]\n",
    "epochs = e[0]\n",
    "\n",
    "# initiate callbacks\n",
    "\n",
    "es = EarlyStopping(monitor='loss', patience=5, verbose=0,\n",
    "    mode='auto', min_delta=.005, restore_best_weights=True)\n",
    "\n",
    "rlr = ReduceLROnPlateau(monitor='loss', factor=0.9,\n",
    "                              mode = 'min', min_delta=.005, patience=2, min_lr=0.0001)\n",
    "\n",
    "mckp = ModelCheckpoint(filepath='win_all_checkpoint', monitor='loss', verbose=0, save_best_only=True,\n",
    "    save_weights_only=False, mode='auto', save_freq='epoch')\n"
   ]
  },
  {
   "cell_type": "code",
   "execution_count": 38,
   "metadata": {},
   "outputs": [
    {
     "name": "stdout",
     "output_type": "stream",
     "text": [
      "Train on 15964 samples\n",
      "Epoch 1/9\n",
      "15964/15964 [==============================] - 41s 3ms/sample - loss: 0.8884 - binary_accuracy: 0.8584 - Precision: 0.7564 - Recall: 0.7773 - AUC: 0.8679\n",
      "Epoch 2/9\n",
      "15964/15964 [==============================] - 58s 4ms/sample - loss: 0.8888 - binary_accuracy: 0.8632 - Precision: 0.7805 - Recall: 0.7553 - AUC: 0.8569\n",
      "Epoch 3/9\n",
      "15964/15964 [==============================] - 55s 3ms/sample - loss: 0.8847 - binary_accuracy: 0.8639 - Precision: 0.7731 - Recall: 0.7721 - AUC: 0.8757\n",
      "Epoch 4/9\n",
      "15964/15964 [==============================] - 55s 3ms/sample - loss: 0.8819 - binary_accuracy: 0.8606 - Precision: 0.7470 - Recall: 0.8079 - AUC: 0.8861\n",
      "Epoch 5/9\n",
      "15964/15964 [==============================] - 55s 3ms/sample - loss: 0.8827 - binary_accuracy: 0.8613 - Precision: 0.7525 - Recall: 0.7997 - AUC: 0.8743\n",
      "Epoch 6/9\n",
      "15964/15964 [==============================] - 53s 3ms/sample - loss: 0.8804 - binary_accuracy: 0.8644 - Precision: 0.7580 - Recall: 0.8033 - AUC: 0.8775\n",
      "Epoch 7/9\n",
      "15964/15964 [==============================] - 54s 3ms/sample - loss: 0.8794 - binary_accuracy: 0.8690 - Precision: 0.7744 - Recall: 0.7936 - AUC: 0.8758\n",
      "Epoch 8/9\n",
      "15964/15964 [==============================] - 54s 3ms/sample - loss: 0.8776 - binary_accuracy: 0.8631 - Precision: 0.7432 - Recall: 0.8290 - AUC: 0.8797\n",
      "Epoch 9/9\n",
      "15964/15964 [==============================] - 54s 3ms/sample - loss: 0.8774 - binary_accuracy: 0.8695 - Precision: 0.7700 - Recall: 0.8039 - AUC: 0.8766\n"
     ]
    },
    {
     "data": {
      "text/plain": [
       "<tensorflow.python.keras.callbacks.History at 0x7feea29edf90>"
      ]
     },
     "execution_count": 38,
     "metadata": {},
     "output_type": "execute_result"
    }
   ],
   "source": [
    "# Train model on merged train and validation set with epochs limited to the min loss epoch on validation set\n",
    "# when order_model is fit the second time, even with changed data, it loads the final weights from the first fit automatically\n",
    "# clear_session does not reset the weights in the model and the learning rate starts at the last rlr learning rate\n",
    "# \n",
    "\n",
    "order_model.fit(X_all,y_all,\n",
    "            batch_size=64,\n",
    "            epochs=epochs,\n",
    "            verbose=True,\n",
    "            validation_data = None, class_weight=class_weight,\n",
    "            callbacks=[es,rlr])"
   ]
  },
  {
   "cell_type": "code",
   "execution_count": 39,
   "metadata": {},
   "outputs": [
    {
     "name": "stdout",
     "output_type": "stream",
     "text": [
      "INFO:tensorflow:Assets written to: win_all_model/assets\n"
     ]
    }
   ],
   "source": [
    "# Save model for prediction\n",
    "\n",
    "filepath = 'win_all_model'\n",
    "save_model(order_model, filepath, overwrite=True, include_optimizer=True, save_format=None,\n",
    "    signatures=None, options=None)"
   ]
  },
  {
   "cell_type": "markdown",
   "metadata": {},
   "source": [
    "#### Display convergence"
   ]
  },
  {
   "cell_type": "code",
   "execution_count": 40,
   "metadata": {},
   "outputs": [
    {
     "data": {
      "text/html": [
       "<div>\n",
       "<style scoped>\n",
       "    .dataframe tbody tr th:only-of-type {\n",
       "        vertical-align: middle;\n",
       "    }\n",
       "\n",
       "    .dataframe tbody tr th {\n",
       "        vertical-align: top;\n",
       "    }\n",
       "\n",
       "    .dataframe thead th {\n",
       "        text-align: right;\n",
       "    }\n",
       "</style>\n",
       "<table border=\"1\" class=\"dataframe\">\n",
       "  <thead>\n",
       "    <tr style=\"text-align: right;\">\n",
       "      <th></th>\n",
       "      <th>loss</th>\n",
       "      <th>binary_accuracy</th>\n",
       "      <th>Precision</th>\n",
       "      <th>Recall</th>\n",
       "      <th>AUC</th>\n",
       "      <th>lr</th>\n",
       "    </tr>\n",
       "  </thead>\n",
       "  <tbody>\n",
       "    <tr>\n",
       "      <th>0</th>\n",
       "      <td>0.888366</td>\n",
       "      <td>0.858431</td>\n",
       "      <td>0.756415</td>\n",
       "      <td>0.777313</td>\n",
       "      <td>0.867870</td>\n",
       "      <td>0.000900</td>\n",
       "    </tr>\n",
       "    <tr>\n",
       "      <th>1</th>\n",
       "      <td>0.888756</td>\n",
       "      <td>0.863192</td>\n",
       "      <td>0.780493</td>\n",
       "      <td>0.755337</td>\n",
       "      <td>0.856904</td>\n",
       "      <td>0.000900</td>\n",
       "    </tr>\n",
       "    <tr>\n",
       "      <th>2</th>\n",
       "      <td>0.884676</td>\n",
       "      <td>0.863944</td>\n",
       "      <td>0.773051</td>\n",
       "      <td>0.772080</td>\n",
       "      <td>0.875692</td>\n",
       "      <td>0.000900</td>\n",
       "    </tr>\n",
       "    <tr>\n",
       "      <th>3</th>\n",
       "      <td>0.881851</td>\n",
       "      <td>0.860624</td>\n",
       "      <td>0.747049</td>\n",
       "      <td>0.807869</td>\n",
       "      <td>0.886133</td>\n",
       "      <td>0.000810</td>\n",
       "    </tr>\n",
       "    <tr>\n",
       "      <th>4</th>\n",
       "      <td>0.882705</td>\n",
       "      <td>0.861313</td>\n",
       "      <td>0.752462</td>\n",
       "      <td>0.799707</td>\n",
       "      <td>0.874330</td>\n",
       "      <td>0.000810</td>\n",
       "    </tr>\n",
       "    <tr>\n",
       "      <th>5</th>\n",
       "      <td>0.880394</td>\n",
       "      <td>0.864382</td>\n",
       "      <td>0.758049</td>\n",
       "      <td>0.803265</td>\n",
       "      <td>0.877482</td>\n",
       "      <td>0.000810</td>\n",
       "    </tr>\n",
       "    <tr>\n",
       "      <th>6</th>\n",
       "      <td>0.879384</td>\n",
       "      <td>0.869018</td>\n",
       "      <td>0.774352</td>\n",
       "      <td>0.793638</td>\n",
       "      <td>0.875768</td>\n",
       "      <td>0.000729</td>\n",
       "    </tr>\n",
       "    <tr>\n",
       "      <th>7</th>\n",
       "      <td>0.877609</td>\n",
       "      <td>0.863067</td>\n",
       "      <td>0.743152</td>\n",
       "      <td>0.829008</td>\n",
       "      <td>0.879724</td>\n",
       "      <td>0.000729</td>\n",
       "    </tr>\n",
       "    <tr>\n",
       "      <th>8</th>\n",
       "      <td>0.877351</td>\n",
       "      <td>0.869456</td>\n",
       "      <td>0.770048</td>\n",
       "      <td>0.803893</td>\n",
       "      <td>0.876565</td>\n",
       "      <td>0.000656</td>\n",
       "    </tr>\n",
       "  </tbody>\n",
       "</table>\n",
       "</div>"
      ],
      "text/plain": [
       "       loss  binary_accuracy  Precision    Recall       AUC        lr\n",
       "0  0.888366         0.858431   0.756415  0.777313  0.867870  0.000900\n",
       "1  0.888756         0.863192   0.780493  0.755337  0.856904  0.000900\n",
       "2  0.884676         0.863944   0.773051  0.772080  0.875692  0.000900\n",
       "3  0.881851         0.860624   0.747049  0.807869  0.886133  0.000810\n",
       "4  0.882705         0.861313   0.752462  0.799707  0.874330  0.000810\n",
       "5  0.880394         0.864382   0.758049  0.803265  0.877482  0.000810\n",
       "6  0.879384         0.869018   0.774352  0.793638  0.875768  0.000729\n",
       "7  0.877609         0.863067   0.743152  0.829008  0.879724  0.000729\n",
       "8  0.877351         0.869456   0.770048  0.803893  0.876565  0.000656"
      ]
     },
     "execution_count": 40,
     "metadata": {},
     "output_type": "execute_result"
    },
    {
     "data": {
      "text/plain": [
       "<matplotlib.axes._subplots.AxesSubplot at 0x7fee9fcbd490>"
      ]
     },
     "execution_count": 40,
     "metadata": {},
     "output_type": "execute_result"
    },
    {
     "data": {
      "text/plain": [
       "<matplotlib.axes._subplots.AxesSubplot at 0x7fee9f480d90>"
      ]
     },
     "execution_count": 40,
     "metadata": {},
     "output_type": "execute_result"
    },
    {
     "data": {
      "text/plain": [
       "<matplotlib.axes._subplots.AxesSubplot at 0x7feea11ffd90>"
      ]
     },
     "execution_count": 40,
     "metadata": {},
     "output_type": "execute_result"
    },
    {
     "data": {
      "text/plain": [
       "<matplotlib.axes._subplots.AxesSubplot at 0x7fee985d49d0>"
      ]
     },
     "execution_count": 40,
     "metadata": {},
     "output_type": "execute_result"
    },
    {
     "data": {
      "text/plain": [
       "<matplotlib.axes._subplots.AxesSubplot at 0x7fee9fda4a10>"
      ]
     },
     "execution_count": 40,
     "metadata": {},
     "output_type": "execute_result"
    },
    {
     "data": {
      "image/png": "[encoded data removed]",
      "text/plain": [
       "<Figure size 432x288 with 1 Axes>"
      ]
     },
     "metadata": {
      "needs_background": "light"
     },
     "output_type": "display_data"
    },
    {
     "data": {
      "image/png": "[encoded data removed]",
      "text/plain": [
       "<Figure size 432x288 with 1 Axes>"
      ]
     },
     "metadata": {
      "needs_background": "light"
     },
     "output_type": "display_data"
    },
    {
     "data": {
      "image/png": "[encoded data removed]",
      "text/plain": [
       "<Figure size 432x288 with 1 Axes>"
      ]
     },
     "metadata": {
      "needs_background": "light"
     },
     "output_type": "display_data"
    },
    {
     "data": {
      "image/png": "[encoded data removed]",
      "text/plain": [
       "<Figure size 432x288 with 1 Axes>"
      ]
     },
     "metadata": {
      "needs_background": "light"
     },
     "output_type": "display_data"
    },
    {
     "data": {
      "image/png": "[encoded data removed]",
      "text/plain": [
       "<Figure size 432x288 with 1 Axes>"
      ]
     },
     "metadata": {
      "needs_background": "light"
     },
     "output_type": "display_data"
    }
   ],
   "source": [
    "da = pd.DataFrame(data=order_model.history.history)\n",
    "da\n",
    "da[['binary_accuracy']].plot()\n",
    "da[['Precision']].plot()\n",
    "da[['Recall']].plot()\n",
    "da[['AUC']].plot()\n",
    "da[['loss']].plot()"
   ]
  },
  {
   "cell_type": "markdown",
   "metadata": {},
   "source": [
    "#### Display confusion and classificaton matrices"
   ]
  },
  {
   "cell_type": "code",
   "execution_count": 41,
   "metadata": {},
   "outputs": [
    {
     "name": "stdout",
     "output_type": "stream",
     "text": [
      "Win All Confusion Matrix\n",
      "[[9741 1445]\n",
      " [ 745 4033]]\n",
      "Win All Classification Report\n",
      "              precision    recall  f1-score   support\n",
      "\n",
      "           0       0.93      0.87      0.90     11186\n",
      "           1       0.74      0.84      0.79      4778\n",
      "\n",
      "    accuracy                           0.86     15964\n",
      "   macro avg       0.83      0.86      0.84     15964\n",
      "weighted avg       0.87      0.86      0.87     15964\n",
      "\n"
     ]
    }
   ],
   "source": [
    "# Display classification report and confusion matrix for fit on all data\n",
    "predicted = order_model.predict(X_all)\n",
    "predictions = np.rint(predicted)\n",
    "print('Win All Confusion Matrix')\n",
    "print(confusion_matrix(y_all,predictions))\n",
    "print('Win All Classification Report')\n",
    "print(classification_report(y_all,predictions))"
   ]
  },
  {
   "cell_type": "code",
   "execution_count": 42,
   "metadata": {},
   "outputs": [
    {
     "name": "stdout",
     "output_type": "stream",
     "text": [
      "Win Test Confusion Matrix\n",
      "[[506  83]\n",
      " [ 37 215]]\n",
      "Win Test Classification Report\n",
      "              precision    recall  f1-score   support\n",
      "\n",
      "           0       0.93      0.86      0.89       589\n",
      "           1       0.72      0.85      0.78       252\n",
      "\n",
      "    accuracy                           0.86       841\n",
      "   macro avg       0.83      0.86      0.84       841\n",
      "weighted avg       0.87      0.86      0.86       841\n",
      "\n"
     ]
    }
   ],
   "source": [
    "# Display classification report and confusion matrix from fit on all data for test data\n",
    "predicted = order_model.predict(X_test)\n",
    "predictions = np.rint(predicted)\n",
    "print('Win Test Confusion Matrix')\n",
    "print(confusion_matrix(y_test,predictions))\n",
    "print('Win Test Classification Report')\n",
    "print(classification_report(y_test,predictions))"
   ]
  },
  {
   "cell_type": "markdown",
   "metadata": {},
   "source": [
    "#### Compute lift on random test sample"
   ]
  },
  {
   "cell_type": "code",
   "execution_count": 46,
   "metadata": {},
   "outputs": [
    {
     "name": "stdout",
     "output_type": "stream",
     "text": [
      "Random Test Sample\n",
      "              precision    recall  f1-score   support\n",
      "\n",
      "           0       0.72      0.72      0.72       589\n",
      "           1       0.34      0.34      0.34       252\n",
      "\n",
      "    accuracy                           0.60       841\n",
      "   macro avg       0.53      0.53      0.53       841\n",
      "weighted avg       0.60      0.60      0.60       841\n",
      "\n"
     ]
    }
   ],
   "source": [
    "from random import sample\n",
    "\n",
    "# Take random sample of y_test targets\n",
    "random_preds = sample(list(y_test),y_test.shape[0])\n",
    "\n",
    "# Display random predictions Classification Report\n",
    "# Classificaton is expected as the distribution of binary labels\n",
    "print ('Random Test Sample')\n",
    "print(classification_report(y_test,random_preds))"
   ]
  },
  {
   "cell_type": "code",
   "execution_count": 44,
   "metadata": {},
   "outputs": [
    {
     "data": {
      "text/html": [
       "<div>\n",
       "<style scoped>\n",
       "    .dataframe tbody tr th:only-of-type {\n",
       "        vertical-align: middle;\n",
       "    }\n",
       "\n",
       "    .dataframe tbody tr th {\n",
       "        vertical-align: top;\n",
       "    }\n",
       "\n",
       "    .dataframe thead th {\n",
       "        text-align: right;\n",
       "    }\n",
       "</style>\n",
       "<table border=\"1\" class=\"dataframe\">\n",
       "  <thead>\n",
       "    <tr style=\"text-align: right;\">\n",
       "      <th></th>\n",
       "      <th>Won/Lost</th>\n",
       "      <th>Actual_Lost</th>\n",
       "      <th>RanPred_Lost</th>\n",
       "      <th>Pred_Lost</th>\n",
       "      <th>Actual_Won</th>\n",
       "      <th>RanPred_Won</th>\n",
       "      <th>Pred_Won</th>\n",
       "      <th>Lift_Won</th>\n",
       "      <th>Precision</th>\n",
       "      <th>Recall</th>\n",
       "    </tr>\n",
       "  </thead>\n",
       "  <tbody>\n",
       "    <tr>\n",
       "      <th>0</th>\n",
       "      <td>Lost</td>\n",
       "      <td>589</td>\n",
       "      <td>410</td>\n",
       "      <td>506</td>\n",
       "      <td>0</td>\n",
       "      <td>179</td>\n",
       "      <td>83</td>\n",
       "      <td>96</td>\n",
       "      <td>0.931860</td>\n",
       "      <td>0.859083</td>\n",
       "    </tr>\n",
       "    <tr>\n",
       "      <th>1</th>\n",
       "      <td>Won</td>\n",
       "      <td>0</td>\n",
       "      <td>179</td>\n",
       "      <td>37</td>\n",
       "      <td>252</td>\n",
       "      <td>73</td>\n",
       "      <td>215</td>\n",
       "      <td>142</td>\n",
       "      <td>0.721477</td>\n",
       "      <td>0.853175</td>\n",
       "    </tr>\n",
       "  </tbody>\n",
       "</table>\n",
       "</div>"
      ],
      "text/plain": [
       "  Won/Lost  Actual_Lost  RanPred_Lost  Pred_Lost  Actual_Won  RanPred_Won  \\\n",
       "0     Lost          589           410        506           0          179   \n",
       "1      Won            0           179         37         252           73   \n",
       "\n",
       "   Pred_Won  Lift_Won  Precision    Recall  \n",
       "0        83        96   0.931860  0.859083  \n",
       "1       215       142   0.721477  0.853175  "
      ]
     },
     "execution_count": 44,
     "metadata": {},
     "output_type": "execute_result"
    }
   ],
   "source": [
    "# Construct actual state confusion matrix\n",
    "actual0 = [(len(y_test) - y_test.sum()),0]\n",
    "actual1 = [0,y_test.sum()]\n",
    "actual = pd.DataFrame([actual0,actual1],columns=['Actual_Lost','Actual_Won'])\n",
    "\n",
    "# Add Won Lost labels to rows\n",
    "actual['Won/Lost'] = ['Lost','Won']\n",
    "cols = ['Won/Lost','Actual_Lost','Actual_Won']\n",
    "actual = actual.loc[:,cols]\n",
    "\n",
    "# Construct random state confusion matrix\n",
    "random_confusion = pd.DataFrame(confusion_matrix(y_test,random_preds))\n",
    "random_confusion.columns = ['RanPred_Lost','RanPred_Won']\n",
    "\n",
    "# Construct predicted state confusion matrix\n",
    "pred_confusion = pd.DataFrame(confusion_matrix(y_test,predictions))\n",
    "pred_confusion.columns = ['Pred_Lost','Pred_Won']\n",
    "\n",
    "# Concatenate confusion matrices\n",
    "lift = pd.concat([actual,random_confusion,pred_confusion],axis=1)\n",
    "\n",
    "# Reorder columns\n",
    "cols = 'Won/Lost', 'Actual_Lost','RanPred_Lost', 'Pred_Lost', 'Actual_Won', 'RanPred_Won', 'Pred_Won'\n",
    "lift = lift.loc[:,cols]\n",
    "\n",
    "# Calculate Lift\n",
    "lift['Lift_Won'] = list(abs(lift.RanPred_Won - lift.Pred_Won))\n",
    "\n",
    "\n",
    "# Calculate precision:  true_positives/true_positive+false_positive\n",
    "lift['Precision'] = [(lift.Pred_Lost[0]/(lift.Pred_Lost[0] + lift.Pred_Lost[1])),\n",
    "                     (lift.Pred_Won[1]/(lift.Pred_Won[1] + lift.Pred_Won[0]))]\n",
    "\n",
    "# Calculate recall: true_positives/true_positives + false_negatives\n",
    "lift['Recall'] = [(lift.Pred_Lost[0]/(lift.Pred_Lost[0] + lift.Pred_Won[0])),\n",
    "                (lift.Pred_Won[1]/(lift.Pred_Won[1] + lift.Pred_Lost[1]))]\n",
    "\n",
    "# Display Lift\n",
    "lift\n"
   ]
  },
  {
   "cell_type": "code",
   "execution_count": 45,
   "metadata": {},
   "outputs": [
    {
     "data": {
      "text/plain": [
       "168408"
      ]
     },
     "execution_count": 45,
     "metadata": {},
     "output_type": "execute_result"
    }
   ],
   "source": [
    "from tensorflow.keras.backend import clear_session\n",
    "clear_session()\n",
    "del order_model\n",
    "gc.collect()"
   ]
  },
  {
   "cell_type": "code",
   "execution_count": null,
   "metadata": {},
   "outputs": [],
   "source": []
  }
 ],
 "metadata": {
  "kernelspec": {
   "display_name": "Python 3",
   "language": "python",
   "name": "python3"
  },
  "language_info": {
   "codemirror_mode": {
    "name": "ipython",
    "version": 3
   },
   "file_extension": ".py",
   "mimetype": "text/x-python",
   "name": "python",
   "nbconvert_exporter": "python",
   "pygments_lexer": "ipython3",
   "version": "3.7.6"
  }
 },
 "nbformat": 4,
 "nbformat_minor": 4
}
